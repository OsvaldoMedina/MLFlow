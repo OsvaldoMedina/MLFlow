{
 "cells": [
  {
   "cell_type": "markdown",
   "metadata": {},
   "source": [
    "# __MLflow - Crear y Elminar un Experimento__\n",
    "\n",
    "## __Generator v.0__"
   ]
  },
  {
   "cell_type": "markdown",
   "metadata": {},
   "source": [
    "### __Objective__\n",
    "\n",
    "- Develop an exercise with MLflow to learn about this tool."
   ]
  },
  {
   "cell_type": "markdown",
   "metadata": {},
   "source": [
    "Paginas para revisar:\n",
    "\n",
    "- https://www.mlflow.org/\n",
    "- https://learn.microsoft.com/en-us/azure/databricks/_static/notebooks/mlflow/mlflow-model-registry-example.html\n",
    "- https://learn.microsoft.com/en-us/azure/databricks/mlflow/model-registry-example\n",
    "- https://medium.com/@haythemtellili/end-to-end-ml-pipelines-with-mlflow-projects-63a11baa2dd1\n",
    "- https://medium.com/@kevin.n.lu123/mlflow-managing-your-ml-pipeline-from-training-to-deployment-7e0d87df9d\n",
    "- https://crunchingthedata.com/cs01-mlflow-models/\n",
    "- https://medium.com/noodle-labs-the-future-of-ai/introduction-to-mlflow-for-mlops-part-1-anaconda-environment-1fd9e299226f\n",
    "- https://medium.com/noodle-labs-the-future-of-ai/introduction-to-mlflow-for-mlops-part-2-docker-environment-53516ce45266\n",
    "- https://medium.com/noodle-labs-the-future-of-ai/introduction-to-mlflow-for-mlops-part-3-database-tracking-minio-artifact-storage-and-registry-9fef196aaf42\n",
    "- https://kili-technology.com/blog/how-to-manage-your-machine-learning-pipeline-with-mlflow\n",
    "- https://analyticsindiamag.com/kubeflow-vs-mlflow-which-mlops-tool-should-you-use/\n",
    "\n",
    "MLflow - Storing Artifacts in HDFS and in an SQLite DB: \n",
    "\n",
    "- https://medium.com/@moyukh_51433/mlflow-storing-artifacts-in-hdfs-and-in-an-sqlite-db-7be26971b6ab\n",
    "\n",
    "Cursos udemy:\n",
    "- https://www.udemy.com/course/azure-machine-learning-mlops-mg/\n",
    "\n",
    "Youtube:\n",
    "\n",
    "- https://www.youtube.com/watch?v=wb-ZxtIwSTA\n",
    "- https://www.youtube.com/watch?v=JApPzAnbfPI\n",
    "- https://www.youtube.com/watch?v=SCwi3b29qwY"
   ]
  },
  {
   "cell_type": "code",
   "execution_count": 1,
   "metadata": {},
   "outputs": [],
   "source": [
    "#!pip install mlflow\n",
    "# !pip install pyyaml\n",
    "#!pip install sqlparse\n",
    "#!pip install #!pip installquerystring-parser\n",
    "#!pip install flask\n",
    "#!pip install waitress\n",
    "#!pip install waitress threadpoolctl\n",
    "\n",
    "#conda install -c conda-forge mlflow"
   ]
  },
  {
   "cell_type": "code",
   "execution_count": 2,
   "metadata": {},
   "outputs": [],
   "source": [
    "import numpy as np\n",
    "import pandas as pd\n",
    "import warnings\n",
    "import ssl\n",
    "ssl._create_default_https_context = ssl._create_unverified_context\n",
    "warnings.filterwarnings(\"ignore\")"
   ]
  },
  {
   "cell_type": "code",
   "execution_count": 3,
   "metadata": {},
   "outputs": [
    {
     "name": "stdout",
     "output_type": "stream",
     "text": [
      "2.0.1\n"
     ]
    }
   ],
   "source": [
    "!python -c \"import mlflow; print(mlflow.__version__)\""
   ]
  },
  {
   "cell_type": "code",
   "execution_count": 4,
   "metadata": {},
   "outputs": [
    {
     "name": "stdout",
     "output_type": "stream",
     "text": [
      "c:\\Users\\osval\\.conda\\envs\\mlflow\\lib\\site-packages\\mlflow\\sklearn\\__init__.py\n"
     ]
    }
   ],
   "source": [
    "!python -c \"import mlflow.sklearn; print(mlflow.sklearn.__file__)\""
   ]
  },
  {
   "cell_type": "code",
   "execution_count": 5,
   "metadata": {},
   "outputs": [],
   "source": [
    "import mlflow\n",
    "import mlflow.keras\n",
    "mlflow.sklearn.autolog()"
   ]
  },
  {
   "cell_type": "code",
   "execution_count": 6,
   "metadata": {},
   "outputs": [
    {
     "name": "stdout",
     "output_type": "stream",
     "text": [
      "['c:\\\\Users\\\\osval\\\\.conda\\\\envs\\\\mlflow\\\\lib\\\\site-packages\\\\ipykernel_launcher.py', '--ip=127.0.0.1', '--stdin=9011', '--control=9009', '--hb=9008', '--Session.signature_scheme=\"hmac-sha256\"', '--Session.key=b\"72e57c53-0e56-429c-a7cc-4051e231f682\"', '--shell=9010', '--transport=\"tcp\"', '--iopub=9012', '--f=c:\\\\Users\\\\osval\\\\AppData\\\\Roaming\\\\jupyter\\\\runtime\\\\kernel-v2-5644pVga3oy85Jtr.json'] 11\n"
     ]
    }
   ],
   "source": [
    "import sys\n",
    "#sys.argv\n",
    "print(sys.argv, len(sys.argv))"
   ]
  },
  {
   "cell_type": "markdown",
   "metadata": {},
   "source": [
    "Ejecutar en la terminal!!\n",
    "\n",
    "* Environment (Pycaret_Challenge_Reviews)"
   ]
  },
  {
   "cell_type": "code",
   "execution_count": 7,
   "metadata": {},
   "outputs": [],
   "source": [
    "# Ejecutar en terminal\n",
    "# mlflow server --backend-store-uri sqlite:///tutorial_mlflow/mlflow_mtf.db --default-artifact-root ./tutorial_mlflow/mlflow-tensorflow"
   ]
  },
  {
   "cell_type": "code",
   "execution_count": 8,
   "metadata": {},
   "outputs": [],
   "source": [
    "import mlflow\n",
    "from pathlib import Path\n",
    "\n",
    "# Create an experiment name, which must be unique and case sensitive\n",
    "experiment_id_tf = mlflow.create_experiment(\n",
    "    \"T Experiments\",\n",
    "    artifact_location=Path.cwd().joinpath(\"tutorial_mlflow/mlflow-tensorflow\").as_uri(),\n",
    "    tags={\"version\": \"v1\", \"priority\": \"P1\"},\n",
    ")"
   ]
  },
  {
   "cell_type": "code",
   "execution_count": 9,
   "metadata": {},
   "outputs": [],
   "source": [
    "experiment_id_tf = \"0\""
   ]
  },
  {
   "cell_type": "code",
   "execution_count": 10,
   "metadata": {},
   "outputs": [
    {
     "name": "stdout",
     "output_type": "stream",
     "text": [
      "Name: Default\n",
      "Experiment_id: 0\n",
      "Artifact Location: file:///D:/ProyectosVisualCode/MLFlow/mlruns/0\n",
      "Tags: {}\n",
      "Lifecycle_stage: active\n"
     ]
    }
   ],
   "source": [
    "experiment = mlflow.get_experiment(experiment_id_tf)\n",
    "print(\"Name: {}\".format(experiment.name))\n",
    "print(\"Experiment_id: {}\".format(experiment.experiment_id))\n",
    "print(\"Artifact Location: {}\".format(experiment.artifact_location))\n",
    "print(\"Tags: {}\".format(experiment.tags))\n",
    "print(\"Lifecycle_stage: {}\".format(experiment.lifecycle_stage))\n",
    "#print(\"Creation timestamp: {}\".format(experiment.creation_time))"
   ]
  },
  {
   "cell_type": "markdown",
   "metadata": {},
   "source": [
    "# Eliminar un experimento de UI MLFLOW"
   ]
  },
  {
   "cell_type": "code",
   "execution_count": 11,
   "metadata": {},
   "outputs": [
    {
     "name": "stdout",
     "output_type": "stream",
     "text": [
      "Name: Experiment_N\n",
      "Artifact Location: file:///D:/ProyectosVisualCode/MLFlow/mlruns/945447858976595998\n",
      "Lifecycle_stage: deleted\n"
     ]
    }
   ],
   "source": [
    "# Enviar experimento a la carpeta de \"trash\"\n",
    "# Fuente: https://mlflow.org/docs/latest/python_api/mlflow.html#mlflow.delete_experiment\n",
    "import mlflow\n",
    "\n",
    "experiment_id = mlflow.create_experiment(\"Experiment_N\")\n",
    "#experiment_id = '1'\n",
    "mlflow.delete_experiment(experiment_id)\n",
    "\n",
    "# Examine the deleted experiment details.\n",
    "experiment = mlflow.get_experiment(experiment_id)\n",
    "print(\"Name: {}\".format(experiment.name))\n",
    "print(\"Artifact Location: {}\".format(experiment.artifact_location))\n",
    "print(\"Lifecycle_stage: {}\".format(experiment.lifecycle_stage))\n",
    "#print(\"Last Updated timestamp: {}\".format(experiment.last_update_time))"
   ]
  },
  {
   "cell_type": "markdown",
   "metadata": {},
   "source": [
    "Tambien se tiene que eliminar de la base datos\n",
    "\n",
    "* DELETE FROM experiments WHERE experiment_id = 1;\n",
    "* DELETE FROM experiment_tags WHERE experiment_id = 1;"
   ]
  }
 ],
 "metadata": {
  "kernelspec": {
   "display_name": "Python 3.8.15 ('mlflow')",
   "language": "python",
   "name": "python3"
  },
  "language_info": {
   "codemirror_mode": {
    "name": "ipython",
    "version": 3
   },
   "file_extension": ".py",
   "mimetype": "text/x-python",
   "name": "python",
   "nbconvert_exporter": "python",
   "pygments_lexer": "ipython3",
   "version": "3.8.15"
  },
  "orig_nbformat": 4,
  "vscode": {
   "interpreter": {
    "hash": "a1c13513e37d7d24cc697fac7b115092fb1213a1df4a9f5a2263e291f90efae1"
   }
  }
 },
 "nbformat": 4,
 "nbformat_minor": 2
}
