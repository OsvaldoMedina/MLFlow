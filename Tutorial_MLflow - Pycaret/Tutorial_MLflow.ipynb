{
 "cells": [
  {
   "cell_type": "markdown",
   "id": "f9dd4185-4c4f-4d43-92d0-7efceee4041e",
   "metadata": {},
   "source": [
    "# __MLflow - Tutorial__\n",
    "\n",
    "## __Generator v.0__"
   ]
  },
  {
   "cell_type": "markdown",
   "id": "b312ac74-47c2-42fa-9332-482ac472e461",
   "metadata": {},
   "source": [
    "### __Objective__\n",
    "\n",
    "- Develop an exercise with MLflow to learn about this tool."
   ]
  },
  {
   "cell_type": "markdown",
   "metadata": {},
   "source": [
    "Paginas para revisar:\n",
    "\n",
    "https://www.mlflow.org/\n",
    "https://learn.microsoft.com/en-us/azure/databricks/_static/notebooks/mlflow/mlflow-model-registry-example.html\n",
    "https://learn.microsoft.com/en-us/azure/databricks/mlflow/model-registry-example\n",
    "https://medium.com/@haythemtellili/end-to-end-ml-pipelines-with-mlflow-projects-63a11baa2dd1\n",
    "https://medium.com/@kevin.n.lu123/mlflow-managing-your-ml-pipeline-from-training-to-deployment-7e0d87df9d\n",
    "https://crunchingthedata.com/cs01-mlflow-models/\n",
    "https://medium.com/noodle-labs-the-future-of-ai/introduction-to-mlflow-for-mlops-part-1-anaconda-environment-1fd9e299226f\n",
    "https://medium.com/noodle-labs-the-future-of-ai/introduction-to-mlflow-for-mlops-part-2-docker-environment-53516ce45266\n",
    "https://medium.com/noodle-labs-the-future-of-ai/introduction-to-mlflow-for-mlops-part-3-database-tracking-minio-artifact-storage-and-registry-9fef196aaf42\n",
    "https://kili-technology.com/blog/how-to-manage-your-machine-learning-pipeline-with-mlflow\n",
    "https://analyticsindiamag.com/kubeflow-vs-mlflow-which-mlops-tool-should-you-use/\n",
    "\n",
    "MLflow - Storing Artifacts in HDFS and in an SQLite DB: \n",
    "https://medium.com/@moyukh_51433/mlflow-storing-artifacts-in-hdfs-and-in-an-sqlite-db-7be26971b6ab\n",
    "\n",
    "Cursos udemy:\n",
    "https://www.udemy.com/course/azure-machine-learning-mlops-mg/\n",
    "\n",
    "Youtube:\n",
    "https://www.youtube.com/watch?v=wb-ZxtIwSTA\n",
    "https://www.youtube.com/watch?v=JApPzAnbfPI\n",
    "https://www.youtube.com/watch?v=SCwi3b29qwY\n"
   ]
  },
  {
   "cell_type": "code",
   "execution_count": 1,
   "id": "9f10ad42",
   "metadata": {},
   "outputs": [],
   "source": [
    "import numpy as np\n",
    "import pandas as pd\n",
    "import mlflow\n",
    "import warnings\n",
    "import ssl\n",
    "ssl._create_default_https_context = ssl._create_unverified_context\n",
    "warnings.filterwarnings(\"ignore\")"
   ]
  },
  {
   "cell_type": "code",
   "execution_count": null,
   "id": "8125d4f8",
   "metadata": {},
   "outputs": [],
   "source": [
    "#from pycaret.datasets import get_data\n",
    "#from pycaret.classification import *"
   ]
  },
  {
   "cell_type": "code",
   "execution_count": 2,
   "id": "ba46b40c",
   "metadata": {},
   "outputs": [
    {
     "name": "stdout",
     "output_type": "stream",
     "text": [
      "['C:\\\\Users\\\\jorgeantonio.lopez\\\\AppData\\\\Roaming\\\\Python\\\\Python38\\\\site-packages\\\\ipykernel_launcher.py', '--ip=127.0.0.1', '--stdin=9003', '--control=9001', '--hb=9000', '--Session.signature_scheme=\"hmac-sha256\"', '--Session.key=b\"435c8327-ee3e-4f00-bf0a-447b512f67a6\"', '--shell=9002', '--transport=\"tcp\"', '--iopub=9004', '--f=c:\\\\Users\\\\jorgeantonio.lopez\\\\AppData\\\\Roaming\\\\jupyter\\\\runtime\\\\kernel-v2-28788EnqQ54ug2wVF.json'] 11\n"
     ]
    }
   ],
   "source": [
    "import sys\n",
    "#sys.argv\n",
    "print(sys.argv, len(sys.argv))"
   ]
  },
  {
   "cell_type": "markdown",
   "metadata": {},
   "source": [
    "Ejecutar en la terminal!!\n",
    "\n",
    "* Environment (Pycaret_Challenge_Reviews)"
   ]
  },
  {
   "cell_type": "code",
   "execution_count": null,
   "metadata": {},
   "outputs": [],
   "source": []
  },
  {
   "cell_type": "code",
   "execution_count": 4,
   "metadata": {},
   "outputs": [],
   "source": [
    "# Ejecutar en terminal\n",
    "# mlflow server --backend-store-uri sqlite:///tutorial_mlflow/mlflow_mtf.db --default-artifact-root ./tutorial_mlflow/mlflow-tensorflow"
   ]
  },
  {
   "cell_type": "code",
   "execution_count": null,
   "metadata": {},
   "outputs": [],
   "source": [
    "import mlflow\n",
    "from pathlib import Path\n",
    "\n",
    "# Create an experiment name, which must be unique and case sensitive\n",
    "experiment_id_tf = mlflow.create_experiment(\n",
    "    \"Tensorflow Experiments\",\n",
    "    artifact_location=Path.cwd().joinpath(\"tutorial_mlflow/mlflow-tensorflow\").as_uri(),\n",
    "    tags={\"version\": \"v1\", \"priority\": \"P1\"},\n",
    ")"
   ]
  },
  {
   "cell_type": "code",
   "execution_count": 9,
   "metadata": {},
   "outputs": [],
   "source": [
    "experiment_id_tf = \"1\""
   ]
  },
  {
   "cell_type": "code",
   "execution_count": 10,
   "metadata": {},
   "outputs": [
    {
     "name": "stdout",
     "output_type": "stream",
     "text": [
      "Name: Tensorflow Experiments\n",
      "Experiment_id: 1\n",
      "Artifact Location: file:///c:/Archivos%20Globant/Globant/Challenge/Challenge%20-%20NLP%20reviews/tutorial_mlflow/mlflow-tensorflow\n",
      "Tags: {'version': 'v1', 'priority': 'P1'}\n",
      "Lifecycle_stage: active\n",
      "Creation timestamp: 1666912649854\n"
     ]
    }
   ],
   "source": [
    "experiment = mlflow.get_experiment(experiment_id_tf)\n",
    "print(\"Name: {}\".format(experiment.name))\n",
    "print(\"Experiment_id: {}\".format(experiment.experiment_id))\n",
    "print(\"Artifact Location: {}\".format(experiment.artifact_location))\n",
    "print(\"Tags: {}\".format(experiment.tags))\n",
    "print(\"Lifecycle_stage: {}\".format(experiment.lifecycle_stage))\n",
    "print(\"Creation timestamp: {}\".format(experiment.creation_time))"
   ]
  },
  {
   "cell_type": "markdown",
   "id": "ebc4b69c",
   "metadata": {},
   "source": [
    "# Eliminar un experimento de UI MLFLOW"
   ]
  },
  {
   "cell_type": "code",
   "execution_count": 6,
   "metadata": {},
   "outputs": [
    {
     "name": "stdout",
     "output_type": "stream",
     "text": [
      "Name: Tensorflow Experiments\n",
      "Artifact Location: file:///c:/Archivos%20Globant/Globant/Challenge/Challenge%20-%20NLP%20reviews/tutorial_mlflow/mlflow-tensorflow\n",
      "Lifecycle_stage: deleted\n",
      "Last Updated timestamp: 1666892990146\n"
     ]
    }
   ],
   "source": [
    "# Enviar experimento a la carpeta de \"trash\"\n",
    "# Fuente: https://mlflow.org/docs/latest/python_api/mlflow.html#mlflow.delete_experiment\n",
    "import mlflow\n",
    "\n",
    "#experiment_id = mlflow.create_experiment(\"New Experiment\")\n",
    "experiment_id = '1'\n",
    "mlflow.delete_experiment(experiment_id)\n",
    "\n",
    "# Examine the deleted experiment details.\n",
    "experiment = mlflow.get_experiment(experiment_id)\n",
    "print(\"Name: {}\".format(experiment.name))\n",
    "print(\"Artifact Location: {}\".format(experiment.artifact_location))\n",
    "print(\"Lifecycle_stage: {}\".format(experiment.lifecycle_stage))\n",
    "print(\"Last Updated timestamp: {}\".format(experiment.last_update_time))"
   ]
  },
  {
   "cell_type": "markdown",
   "metadata": {},
   "source": [
    "Tambien se tiene que eliminar de la base datos\n",
    "\n",
    "* DELETE FROM experiments WHERE experiment_id = 1;\n",
    "* DELETE FROM experiment_tags WHERE experiment_id = 1;"
   ]
  },
  {
   "cell_type": "markdown",
   "metadata": {},
   "source": [
    "# Ejemplo de Red Neuronal"
   ]
  },
  {
   "cell_type": "code",
   "execution_count": 11,
   "id": "bb64d700",
   "metadata": {},
   "outputs": [
    {
     "data": {
      "image/png": "[encoded data removed]",
      "text/plain": [
       "<Figure size 640x480 with 1 Axes>"
      ]
     },
     "metadata": {},
     "output_type": "display_data"
    }
   ],
   "source": [
    "from sklearn.datasets import make_blobs\n",
    "import matplotlib.pyplot as plt\n",
    "\n",
    "X,y = make_blobs(n_samples=1000, n_features=2, centers=2, random_state=42)\n",
    "\n",
    "plt.scatter(X[:,0], X[:, 1], c=y, marker=\"o\")\n",
    "plt.show()"
   ]
  },
  {
   "cell_type": "code",
   "execution_count": 12,
   "id": "5563d85a",
   "metadata": {},
   "outputs": [],
   "source": [
    "from sklearn.model_selection import train_test_split\n",
    "X_train, X_test, y_train, y_test = train_test_split(X, y, test_size=0.33, random_state=42)"
   ]
  },
  {
   "cell_type": "code",
   "execution_count": 13,
   "metadata": {},
   "outputs": [
    {
     "data": {
      "text/plain": [
       "670"
      ]
     },
     "execution_count": 13,
     "metadata": {},
     "output_type": "execute_result"
    }
   ],
   "source": [
    "len(X_train.tolist())"
   ]
  },
  {
   "cell_type": "code",
   "execution_count": 14,
   "id": "deee32a5",
   "metadata": {},
   "outputs": [],
   "source": [
    "from mlflow.tracking import MlflowClient\n",
    "from mlflow.models.signature import infer_signature\n",
    "client = MlflowClient()"
   ]
  },
  {
   "cell_type": "code",
   "execution_count": 15,
   "metadata": {},
   "outputs": [],
   "source": [
    "import os\n",
    "import warnings\n",
    "import sys\n",
    "import pandas as pd\n",
    "import numpy as np\n",
    "#import tensorflow\n",
    "from tensorflow import keras\n",
    "from tensorflow.keras.datasets import reuters\n",
    "from tensorflow.keras.optimizers import *\n",
    "from tensorflow.keras.models import Sequential\n",
    "from tensorflow.keras.layers import Dense, Dropout, Activation\n",
    "from tensorflow.keras.preprocessing.text import Tokenizer\n",
    "from urllib.parse import urlparse\n",
    "import mlflow\n",
    "import mlflow.tensorflow"
   ]
  },
  {
   "cell_type": "code",
   "execution_count": 26,
   "metadata": {},
   "outputs": [],
   "source": [
    "def print_auto_logged_info(r):\n",
    "    tags = {k: v for k, v in r.data.tags.items() if not k.startswith(\"mlflow.\")}\n",
    "    artifacts = [f.path for f in MlflowClient().list_artifacts(r.info.run_id, \"model\")]\n",
    "    print(\"run_id: {}\".format(r.info.run_id))\n",
    "    print(\"artifacts: {}\".format(artifacts))\n",
    "    print(\"params: {}\".format(r.data.params))\n",
    "    print(\"metrics: {}\".format(r.data.metrics))\n",
    "    print(\"tags: {}\".format(tags))\n",
    "\n",
    "def train_keras_model(X, y,learning_rates,optimizer,epochs,batch_size,validation_split):\n",
    "  optimizer=keras.optimizers.Adam(learning_rate=learning_rates)\n",
    "\n",
    "  model_anr = Sequential()\n",
    "  model_anr.add(Dense(8, input_shape=(X_train.shape[-1],), activation=\"relu\", name=\"hidden_layer\"))\n",
    "  model_anr.add(Dense(1,activation = \"sigmoid\"))\n",
    "  model_anr.compile(loss=\"binary_crossentropy\", optimizer=optimizer, metrics=[\"binary_accuracy\"])\n",
    "\n",
    "  history = model_anr.fit(X_train, y_train, epochs=epochs, batch_size=batch_size, validation_split=validation_split)\n",
    "\n",
    "  fig, ax = plt.subplots(2,1)\n",
    "  ax[0].plot(history.history['loss'], color='b', label=\"Training loss\")\n",
    "  ax[0].plot(history.history['val_loss'], color='r', label=\"Validation loss\",axes =ax[0])\n",
    "  legend = ax[0].legend(loc='best', shadow=True)\n",
    "\n",
    "  ax[1].plot(history.history['binary_accuracy'], color='b', label=\"Training binary accuracy\")\n",
    "  ax[1].plot(history.history['val_binary_accuracy'], color='r',label=\"Validation binary accuracy\")\n",
    "  legend = ax[1].legend(loc='best', shadow=True)\n",
    "\n",
    "  test_loss, test_binary_accuracy = model_anr.evaluate(X_test, y_test)\n",
    "  print(\"Test test_binary_accuracy: {}\".format(test_binary_accuracy))\n",
    "\n",
    "  mlflow.log_metric(\"test_loss\", test_loss)\n",
    "  mlflow.log_metric(\"test_binary_accuracy\", test_binary_accuracy)\n",
    "  return model_anr, history\n"
   ]
  },
  {
   "cell_type": "code",
   "execution_count": 37,
   "metadata": {},
   "outputs": [
    {
     "name": "stdout",
     "output_type": "stream",
     "text": [
      "Epoch 1/10\n",
      "19/19 [==============================] - 1s 18ms/step - loss: 2.4930 - binary_accuracy: 0.5025 - val_loss: 2.2413 - val_binary_accuracy: 0.5224\n",
      "Epoch 2/10\n",
      "19/19 [==============================] - 0s 4ms/step - loss: 2.2250 - binary_accuracy: 0.5025 - val_loss: 2.0037 - val_binary_accuracy: 0.5224\n",
      "Epoch 3/10\n",
      "19/19 [==============================] - 0s 4ms/step - loss: 1.9937 - binary_accuracy: 0.5025 - val_loss: 1.7938 - val_binary_accuracy: 0.5224\n",
      "Epoch 4/10\n",
      "19/19 [==============================] - 0s 3ms/step - loss: 1.7880 - binary_accuracy: 0.5025 - val_loss: 1.6105 - val_binary_accuracy: 0.5224\n",
      "Epoch 5/10\n",
      "19/19 [==============================] - 0s 3ms/step - loss: 1.6056 - binary_accuracy: 0.5025 - val_loss: 1.4447 - val_binary_accuracy: 0.5224\n",
      "Epoch 6/10\n",
      "19/19 [==============================] - 0s 3ms/step - loss: 1.4387 - binary_accuracy: 0.5025 - val_loss: 1.2981 - val_binary_accuracy: 0.5224\n",
      "Epoch 7/10\n",
      "19/19 [==============================] - 0s 4ms/step - loss: 1.2918 - binary_accuracy: 0.5025 - val_loss: 1.1633 - val_binary_accuracy: 0.5224\n",
      "Epoch 8/10\n",
      "19/19 [==============================] - 0s 7ms/step - loss: 1.1578 - binary_accuracy: 0.5025 - val_loss: 1.0444 - val_binary_accuracy: 0.5224\n",
      "Epoch 9/10\n",
      "19/19 [==============================] - 0s 3ms/step - loss: 1.0410 - binary_accuracy: 0.5025 - val_loss: 0.9362 - val_binary_accuracy: 0.5224\n",
      "Epoch 10/10\n",
      "19/19 [==============================] - 0s 4ms/step - loss: 0.9350 - binary_accuracy: 0.5025 - val_loss: 0.8440 - val_binary_accuracy: 0.5224\n",
      "INFO:tensorflow:Assets written to: C:\\Users\\JORGEA~1.LOP\\AppData\\Local\\Temp\\tmp58qico7n\\model\\data\\model\\assets\n",
      "11/11 [==============================] - 0s 1ms/step - loss: 0.9138 - binary_accuracy: 0.4909\n",
      "Test test_binary_accuracy: 0.4909090995788574\n",
      "21/21 [==============================] - 0s 1ms/step\n",
      "tracking_url_type_store: http\n",
      "INFO:tensorflow:Assets written to: C:\\Users\\JORGEA~1.LOP\\AppData\\Local\\Temp\\tmpdr94rva7\\model\\data\\model\\assets\n"
     ]
    },
    {
     "name": "stderr",
     "output_type": "stream",
     "text": [
      "Registered model 'keras-modelo-1' already exists. Creating a new version of this model...\n",
      "2022/10/28 13:53:22 INFO mlflow.tracking._model_registry.client: Waiting up to 300 seconds for model version to finish creation.                     Model name: keras-modelo-1, version 11\n",
      "Created version '11' of model 'keras-modelo-1'.\n"
     ]
    },
    {
     "name": "stdout",
     "output_type": "stream",
     "text": [
      "run_id: 0833b88696e84efb99b4bf3cd4af80de\n",
      "artifacts: ['model/MLmodel', 'model/conda.yaml', 'model/data', 'model/python_env.yaml', 'model/requirements.txt']\n",
      "params: {'epochs': '10', 'batch_size': '32', 'validation_split': '0.1', 'shuffle': 'True', 'class_weight': 'None', 'sample_weight': 'None', 'initial_epoch': '0', 'steps_per_epoch': 'None', 'validation_steps': 'None', 'validation_batch_size': 'None', 'validation_freq': '1', 'max_queue_size': '10', 'workers': '1', 'use_multiprocessing': 'False', 'num_layers': '2', 'optimizer_name': 'Adam', 'learning_rate': '0.001', 'epsilon': '1e-07'}\n",
      "metrics: {'loss': 0.9349945187568665, 'binary_accuracy': 0.5024875402450562, 'val_loss': 0.8440214991569519, 'val_binary_accuracy': 0.5223880410194397, 'test_loss': 0.91382896900177, 'test_binary_accuracy': 0.4909090995788574}\n",
      "tags: {}\n"
     ]
    },
    {
     "data": {
      "image/png": "[encoded data removed]",
      "text/plain": [
       "<Figure size 640x480 with 2 Axes>"
      ]
     },
     "metadata": {},
     "output_type": "display_data"
    }
   ],
   "source": [
    "num_experiment = \"Experiment 5\"\n",
    "\n",
    "if __name__ == \"__main__\":\n",
    "    mlflow.set_tracking_uri(\"http://localhost:5000\")\n",
    "    warnings.filterwarnings(\"ignore\")\n",
    "    np.random.seed(40)\n",
    "    \n",
    "    mlflow.keras.autolog()\n",
    "    #mlflow.autolog()\n",
    "    #with mlflow.start_run(experiment_id=experiment_id_tf) as run:\n",
    "    with mlflow.start_run(experiment_id=experiment_id_tf, run_name=num_experiment) as run:\n",
    "\n",
    "          # Automatically capture the model's parameters, metrics, artifacts,\n",
    "            # and source code with the `autolog()` function\n",
    "            #mlflow.keras.autolog()\n",
    "\n",
    "            mlflow.set_tag(\"mlflow.runName\", num_experiment)\n",
    "\n",
    "            learning_rates = 0.001\n",
    "            optimizer=keras.optimizers.Adam(learning_rate=learning_rates)\n",
    "            epochs = 10\n",
    "            batch_size = 32\n",
    "            validation_split = 0.1\n",
    "\n",
    "            model_anr, history  = train_keras_model(X, y,learning_rates,optimizer,epochs,batch_size,validation_split)\n",
    "\n",
    "            # get model signature\n",
    "            signature = infer_signature(model_input=X_train, model_output=model_anr.predict(X_train))\n",
    "\n",
    "            # Save the plot and log it as an artifact\n",
    "            \n",
    "            plt.savefig(\"behavior_plot.png\")\n",
    "            mlflow.log_artifact(\"behavior_plot.png\")\n",
    "\n",
    "            tracking_url_type_store = urlparse(mlflow.get_tracking_uri()).scheme\n",
    "\n",
    "            print('tracking_url_type_store:',tracking_url_type_store)\n",
    "\n",
    "            #from tensorflow.python.saved_model import signature_constants\n",
    "            #tag=[keras.saved_model.tag_constants.SERVING]\n",
    "            #tag=[tensorflow.compat.v1.saved_model.tag_constants.SERVING]\n",
    "            #key=signature_constants.DEFAULT_SERVING_SIGNATURE_DEF_KEY\n",
    "\n",
    "            # Model registry does not work with file store\n",
    "            if tracking_url_type_store != \"file\":\n",
    "\n",
    "                # Register the model\n",
    "                # There are other ways to use the Model Registry, which depends on the use case,\n",
    "                # please refer to the doc for more information:\n",
    "                # https://mlflow.org/docs/latest/model-registry.html#api-workflow\n",
    "                # Save model to artifacts\n",
    "                mlflow.keras.log_model(keras_model = model_anr, artifact_path='keras-models',signature=signature,\n",
    "                registered_model_name=\"keras-modelo-1\")\n",
    "            else:\n",
    "                # Save model to artifacts\n",
    "                mlflow.keras.log_model(keras_model = model_anr, artifact_path=\"keras-models\",signature=signature,\n",
    "                registered_model_name=\"keras-modelo-1\")\n",
    "                #mlflow.keras.log_model()\n",
    "\n",
    "# fetch the auto logged parameters and metrics for ended run\n",
    "print_auto_logged_info(mlflow.get_run(run_id=run.info.run_id))\n",
    "\n",
    "mlflow.end_run()\n"
   ]
  },
  {
   "cell_type": "code",
   "execution_count": 30,
   "metadata": {},
   "outputs": [],
   "source": [
    "mlflow.end_run()"
   ]
  },
  {
   "cell_type": "code",
   "execution_count": 39,
   "id": "0e65b09a",
   "metadata": {},
   "outputs": [
    {
     "name": "stderr",
     "output_type": "stream",
     "text": [
      "2022/10/28 16:29:32 INFO mlflow.tracking.fluent: Autologging successfully enabled for sklearn.\n",
      "2022/10/28 16:29:32 INFO mlflow.tracking.fluent: Autologging successfully enabled for pyspark.\n",
      "2022/10/28 16:29:32 INFO mlflow.pyspark.ml: No SparkSession detected. Autologging will log pyspark.ml models contained in the default allowlist. To specify a custom allowlist, initialize a SparkSession prior to calling mlflow.pyspark.ml.autolog() and specify the path to your allowlist file via the spark.mlflow.pysparkml.autolog.logModelAllowlistFile conf.\n",
      "2022/10/28 16:29:32 INFO mlflow.tracking.fluent: Autologging successfully enabled for pyspark.ml.\n"
     ]
    },
    {
     "name": "stdout",
     "output_type": "stream",
     "text": [
      "Epoch 1/10\n",
      "19/19 [==============================] - 1s 15ms/step - loss: 0.1485 - binary_accuracy: 0.9983 - val_loss: 0.0999 - val_binary_accuracy: 1.0000\n",
      "Epoch 2/10\n",
      "19/19 [==============================] - 0s 2ms/step - loss: 0.0870 - binary_accuracy: 1.0000 - val_loss: 0.0588 - val_binary_accuracy: 1.0000\n",
      "Epoch 3/10\n",
      "19/19 [==============================] - 0s 3ms/step - loss: 0.0563 - binary_accuracy: 1.0000 - val_loss: 0.0397 - val_binary_accuracy: 1.0000\n",
      "Epoch 4/10\n",
      "19/19 [==============================] - 0s 2ms/step - loss: 0.0408 - binary_accuracy: 1.0000 - val_loss: 0.0293 - val_binary_accuracy: 1.0000\n",
      "Epoch 5/10\n",
      "19/19 [==============================] - 0s 2ms/step - loss: 0.0318 - binary_accuracy: 1.0000 - val_loss: 0.0225 - val_binary_accuracy: 1.0000\n",
      "Epoch 6/10\n",
      "19/19 [==============================] - 0s 2ms/step - loss: 0.0255 - binary_accuracy: 1.0000 - val_loss: 0.0180 - val_binary_accuracy: 1.0000\n",
      "Epoch 7/10\n",
      "19/19 [==============================] - 0s 2ms/step - loss: 0.0211 - binary_accuracy: 1.0000 - val_loss: 0.0148 - val_binary_accuracy: 1.0000\n",
      "Epoch 8/10\n",
      "19/19 [==============================] - 0s 3ms/step - loss: 0.0178 - binary_accuracy: 1.0000 - val_loss: 0.0124 - val_binary_accuracy: 1.0000\n",
      "Epoch 9/10\n",
      "19/19 [==============================] - 0s 3ms/step - loss: 0.0153 - binary_accuracy: 1.0000 - val_loss: 0.0106 - val_binary_accuracy: 1.0000\n",
      "Epoch 10/10\n",
      "19/19 [==============================] - 0s 2ms/step - loss: 0.0133 - binary_accuracy: 1.0000 - val_loss: 0.0092 - val_binary_accuracy: 1.0000\n",
      "INFO:tensorflow:Assets written to: C:\\Users\\JORGEA~1.LOP\\AppData\\Local\\Temp\\tmpx08khqb3\\model\\data\\model\\assets\n"
     ]
    },
    {
     "ename": "KeyboardInterrupt",
     "evalue": "",
     "output_type": "error",
     "traceback": [
      "\u001b[1;31m---------------------------------------------------------------------------\u001b[0m",
      "\u001b[1;31mKeyboardInterrupt\u001b[0m                         Traceback (most recent call last)",
      "\u001b[1;32mc:\\Archivos Globant\\Globant\\Challenge\\Challenge - NLP reviews\\Tutorial_MLflow.ipynb Cell 23\u001b[0m in \u001b[0;36m<cell line: 1>\u001b[1;34m()\u001b[0m\n\u001b[0;32m     <a href='vscode-notebook-cell:/c%3A/Archivos%20Globant/Globant/Challenge/Challenge%20-%20NLP%20reviews/Tutorial_MLflow.ipynb#X16sZmlsZQ%3D%3D?line=22'>23</a>\u001b[0m  model\u001b[39m.\u001b[39madd(Dense(\u001b[39m1\u001b[39m,activation \u001b[39m=\u001b[39m \u001b[39m\"\u001b[39m\u001b[39msigmoid\u001b[39m\u001b[39m\"\u001b[39m))\n\u001b[0;32m     <a href='vscode-notebook-cell:/c%3A/Archivos%20Globant/Globant/Challenge/Challenge%20-%20NLP%20reviews/Tutorial_MLflow.ipynb#X16sZmlsZQ%3D%3D?line=23'>24</a>\u001b[0m  model\u001b[39m.\u001b[39mcompile(loss\u001b[39m=\u001b[39m\u001b[39m\"\u001b[39m\u001b[39mbinary_crossentropy\u001b[39m\u001b[39m\"\u001b[39m , optimizer\u001b[39m=\u001b[39moptimizer, metrics\u001b[39m=\u001b[39m[\u001b[39m\"\u001b[39m\u001b[39mbinary_accuracy\u001b[39m\u001b[39m\"\u001b[39m])\n\u001b[1;32m---> <a href='vscode-notebook-cell:/c%3A/Archivos%20Globant/Globant/Challenge/Challenge%20-%20NLP%20reviews/Tutorial_MLflow.ipynb#X16sZmlsZQ%3D%3D?line=25'>26</a>\u001b[0m  history \u001b[39m=\u001b[39m model\u001b[39m.\u001b[39;49mfit(X_train,y_train, batch_size\u001b[39m=\u001b[39;49mbatch_size, epochs\u001b[39m=\u001b[39;49mepochs, verbose\u001b[39m=\u001b[39;49m\u001b[39m1\u001b[39;49m, validation_split\u001b[39m=\u001b[39;49m\u001b[39m0.1\u001b[39;49m)\n\u001b[0;32m     <a href='vscode-notebook-cell:/c%3A/Archivos%20Globant/Globant/Challenge/Challenge%20-%20NLP%20reviews/Tutorial_MLflow.ipynb#X16sZmlsZQ%3D%3D?line=27'>28</a>\u001b[0m \u001b[39m# log input features\u001b[39;00m\n\u001b[0;32m     <a href='vscode-notebook-cell:/c%3A/Archivos%20Globant/Globant/Challenge/Challenge%20-%20NLP%20reviews/Tutorial_MLflow.ipynb#X16sZmlsZQ%3D%3D?line=28'>29</a>\u001b[0m  \u001b[39m#mlflow.set_tag(\"features\", str(X_train.columns.values.tolist()))\u001b[39;00m\n\u001b[0;32m     <a href='vscode-notebook-cell:/c%3A/Archivos%20Globant/Globant/Challenge/Challenge%20-%20NLP%20reviews/Tutorial_MLflow.ipynb#X16sZmlsZQ%3D%3D?line=29'>30</a>\u001b[0m \n\u001b[1;32m   (...)\u001b[0m\n\u001b[0;32m     <a href='vscode-notebook-cell:/c%3A/Archivos%20Globant/Globant/Challenge/Challenge%20-%20NLP%20reviews/Tutorial_MLflow.ipynb#X16sZmlsZQ%3D%3D?line=32'>33</a>\u001b[0m  \u001b[39m#mlflow.log_metric(\"train_loss\", history.history['loss'][-1])\u001b[39;00m\n\u001b[0;32m     <a href='vscode-notebook-cell:/c%3A/Archivos%20Globant/Globant/Challenge/Challenge%20-%20NLP%20reviews/Tutorial_MLflow.ipynb#X16sZmlsZQ%3D%3D?line=33'>34</a>\u001b[0m  \u001b[39m#mlflow.log_metric(\"val_loss\", history.history['val_loss'][-1])\u001b[39;00m\n\u001b[0;32m     <a href='vscode-notebook-cell:/c%3A/Archivos%20Globant/Globant/Challenge/Challenge%20-%20NLP%20reviews/Tutorial_MLflow.ipynb#X16sZmlsZQ%3D%3D?line=35'>36</a>\u001b[0m  fig, ax \u001b[39m=\u001b[39m plt\u001b[39m.\u001b[39msubplots(\u001b[39m2\u001b[39m,\u001b[39m1\u001b[39m)\n",
      "File \u001b[1;32mc:\\Users\\jorgeantonio.lopez\\Anaconda3\\envs\\Pycaret_Challenge_Reviews\\lib\\site-packages\\mlflow\\utils\\autologging_utils\\safety.py:555\u001b[0m, in \u001b[0;36msafe_patch.<locals>.safe_patch_function\u001b[1;34m(*args, **kwargs)\u001b[0m\n\u001b[0;32m    553\u001b[0m     patch_function\u001b[39m.\u001b[39mcall(call_original, \u001b[39m*\u001b[39margs, \u001b[39m*\u001b[39m\u001b[39m*\u001b[39mkwargs)\n\u001b[0;32m    554\u001b[0m \u001b[39melse\u001b[39;00m:\n\u001b[1;32m--> 555\u001b[0m     patch_function(call_original, \u001b[39m*\u001b[39;49margs, \u001b[39m*\u001b[39;49m\u001b[39m*\u001b[39;49mkwargs)\n\u001b[0;32m    557\u001b[0m session\u001b[39m.\u001b[39mstate \u001b[39m=\u001b[39m \u001b[39m\"\u001b[39m\u001b[39msucceeded\u001b[39m\u001b[39m\"\u001b[39m\n\u001b[0;32m    559\u001b[0m try_log_autologging_event(\n\u001b[0;32m    560\u001b[0m     AutologgingEventLogger\u001b[39m.\u001b[39mget_logger()\u001b[39m.\u001b[39mlog_patch_function_success,\n\u001b[0;32m    561\u001b[0m     session,\n\u001b[1;32m   (...)\u001b[0m\n\u001b[0;32m    565\u001b[0m     kwargs,\n\u001b[0;32m    566\u001b[0m )\n",
      "File \u001b[1;32mc:\\Users\\jorgeantonio.lopez\\Anaconda3\\envs\\Pycaret_Challenge_Reviews\\lib\\site-packages\\mlflow\\utils\\autologging_utils\\safety.py:254\u001b[0m, in \u001b[0;36mwith_managed_run.<locals>.patch_with_managed_run\u001b[1;34m(original, *args, **kwargs)\u001b[0m\n\u001b[0;32m    251\u001b[0m     managed_run \u001b[39m=\u001b[39m create_managed_run()\n\u001b[0;32m    253\u001b[0m \u001b[39mtry\u001b[39;00m:\n\u001b[1;32m--> 254\u001b[0m     result \u001b[39m=\u001b[39m patch_function(original, \u001b[39m*\u001b[39;49margs, \u001b[39m*\u001b[39;49m\u001b[39m*\u001b[39;49mkwargs)\n\u001b[0;32m    255\u001b[0m \u001b[39mexcept\u001b[39;00m (\u001b[39mException\u001b[39;00m, \u001b[39mKeyboardInterrupt\u001b[39;00m):\n\u001b[0;32m    256\u001b[0m     \u001b[39m# In addition to standard Python exceptions, handle keyboard interrupts to ensure\u001b[39;00m\n\u001b[0;32m    257\u001b[0m     \u001b[39m# that runs are terminated if a user prematurely interrupts training execution\u001b[39;00m\n\u001b[0;32m    258\u001b[0m     \u001b[39m# (e.g. via sigint / ctrl-c)\u001b[39;00m\n\u001b[0;32m    259\u001b[0m     \u001b[39mif\u001b[39;00m managed_run:\n",
      "File \u001b[1;32mc:\\Users\\jorgeantonio.lopez\\Anaconda3\\envs\\Pycaret_Challenge_Reviews\\lib\\site-packages\\mlflow\\keras.py:842\u001b[0m, in \u001b[0;36mautolog.<locals>.fit\u001b[1;34m(original, self, *args, **kwargs)\u001b[0m\n\u001b[0;32m    840\u001b[0m \u001b[39mdef\u001b[39;00m \u001b[39mfit\u001b[39m(original, \u001b[39mself\u001b[39m, \u001b[39m*\u001b[39margs, \u001b[39m*\u001b[39m\u001b[39m*\u001b[39mkwargs):\n\u001b[0;32m    841\u001b[0m     unlogged_params \u001b[39m=\u001b[39m [\u001b[39m\"\u001b[39m\u001b[39mself\u001b[39m\u001b[39m\"\u001b[39m, \u001b[39m\"\u001b[39m\u001b[39mx\u001b[39m\u001b[39m\"\u001b[39m, \u001b[39m\"\u001b[39m\u001b[39my\u001b[39m\u001b[39m\"\u001b[39m, \u001b[39m\"\u001b[39m\u001b[39mcallbacks\u001b[39m\u001b[39m\"\u001b[39m, \u001b[39m\"\u001b[39m\u001b[39mvalidation_data\u001b[39m\u001b[39m\"\u001b[39m, \u001b[39m\"\u001b[39m\u001b[39mverbose\u001b[39m\u001b[39m\"\u001b[39m]\n\u001b[1;32m--> 842\u001b[0m     \u001b[39mreturn\u001b[39;00m _run_and_log_function(\u001b[39mself\u001b[39;49m, original, args, kwargs, unlogged_params, \u001b[39m5\u001b[39;49m)\n",
      "File \u001b[1;32mc:\\Users\\jorgeantonio.lopez\\Anaconda3\\envs\\Pycaret_Challenge_Reviews\\lib\\site-packages\\mlflow\\keras.py:834\u001b[0m, in \u001b[0;36mautolog.<locals>._run_and_log_function\u001b[1;34m(self, original, args, kwargs, unlogged_params, callback_arg_index)\u001b[0m\n\u001b[0;32m    830\u001b[0m         kwargs[\u001b[39m\"\u001b[39m\u001b[39mcallbacks\u001b[39m\u001b[39m\"\u001b[39m] \u001b[39m=\u001b[39m [mlflowKerasCallback]\n\u001b[0;32m    832\u001b[0m     _log_early_stop_callback_params(early_stop_callback)\n\u001b[1;32m--> 834\u001b[0m     history \u001b[39m=\u001b[39m original(\u001b[39mself\u001b[39;49m, \u001b[39m*\u001b[39;49margs, \u001b[39m*\u001b[39;49m\u001b[39m*\u001b[39;49mkwargs)\n\u001b[0;32m    836\u001b[0m     _log_early_stop_callback_metrics(early_stop_callback, history, metrics_logger)\n\u001b[0;32m    838\u001b[0m \u001b[39mreturn\u001b[39;00m history\n",
      "File \u001b[1;32mc:\\Users\\jorgeantonio.lopez\\Anaconda3\\envs\\Pycaret_Challenge_Reviews\\lib\\site-packages\\mlflow\\utils\\autologging_utils\\safety.py:536\u001b[0m, in \u001b[0;36msafe_patch.<locals>.safe_patch_function.<locals>.call_original\u001b[1;34m(*og_args, **og_kwargs)\u001b[0m\n\u001b[0;32m    533\u001b[0m         original_result \u001b[39m=\u001b[39m original(\u001b[39m*\u001b[39m_og_args, \u001b[39m*\u001b[39m\u001b[39m*\u001b[39m_og_kwargs)\n\u001b[0;32m    534\u001b[0m         \u001b[39mreturn\u001b[39;00m original_result\n\u001b[1;32m--> 536\u001b[0m \u001b[39mreturn\u001b[39;00m call_original_fn_with_event_logging(_original_fn, og_args, og_kwargs)\n",
      "File \u001b[1;32mc:\\Users\\jorgeantonio.lopez\\Anaconda3\\envs\\Pycaret_Challenge_Reviews\\lib\\site-packages\\mlflow\\utils\\autologging_utils\\safety.py:471\u001b[0m, in \u001b[0;36msafe_patch.<locals>.safe_patch_function.<locals>.call_original_fn_with_event_logging\u001b[1;34m(original_fn, og_args, og_kwargs)\u001b[0m\n\u001b[0;32m    462\u001b[0m \u001b[39mtry\u001b[39;00m:\n\u001b[0;32m    463\u001b[0m     try_log_autologging_event(\n\u001b[0;32m    464\u001b[0m         AutologgingEventLogger\u001b[39m.\u001b[39mget_logger()\u001b[39m.\u001b[39mlog_original_function_start,\n\u001b[0;32m    465\u001b[0m         session,\n\u001b[1;32m   (...)\u001b[0m\n\u001b[0;32m    469\u001b[0m         og_kwargs,\n\u001b[0;32m    470\u001b[0m     )\n\u001b[1;32m--> 471\u001b[0m     original_fn_result \u001b[39m=\u001b[39m original_fn(\u001b[39m*\u001b[39;49mog_args, \u001b[39m*\u001b[39;49m\u001b[39m*\u001b[39;49mog_kwargs)\n\u001b[0;32m    473\u001b[0m     try_log_autologging_event(\n\u001b[0;32m    474\u001b[0m         AutologgingEventLogger\u001b[39m.\u001b[39mget_logger()\u001b[39m.\u001b[39mlog_original_function_success,\n\u001b[0;32m    475\u001b[0m         session,\n\u001b[1;32m   (...)\u001b[0m\n\u001b[0;32m    479\u001b[0m         og_kwargs,\n\u001b[0;32m    480\u001b[0m     )\n\u001b[0;32m    481\u001b[0m     \u001b[39mreturn\u001b[39;00m original_fn_result\n",
      "File \u001b[1;32mc:\\Users\\jorgeantonio.lopez\\Anaconda3\\envs\\Pycaret_Challenge_Reviews\\lib\\site-packages\\mlflow\\utils\\autologging_utils\\safety.py:533\u001b[0m, in \u001b[0;36msafe_patch.<locals>.safe_patch_function.<locals>.call_original.<locals>._original_fn\u001b[1;34m(*_og_args, **_og_kwargs)\u001b[0m\n\u001b[0;32m    525\u001b[0m \u001b[39m# Show all non-MLflow warnings as normal (i.e. not as event logs)\u001b[39;00m\n\u001b[0;32m    526\u001b[0m \u001b[39m# during original function execution, even if silent mode is enabled\u001b[39;00m\n\u001b[0;32m    527\u001b[0m \u001b[39m# (`silent=True`), since these warnings originate from the ML framework\u001b[39;00m\n\u001b[0;32m    528\u001b[0m \u001b[39m# or one of its dependencies and are likely relevant to the caller\u001b[39;00m\n\u001b[0;32m    529\u001b[0m \u001b[39mwith\u001b[39;00m set_non_mlflow_warnings_behavior_for_current_thread(\n\u001b[0;32m    530\u001b[0m     disable_warnings\u001b[39m=\u001b[39m\u001b[39mFalse\u001b[39;00m,\n\u001b[0;32m    531\u001b[0m     reroute_warnings\u001b[39m=\u001b[39m\u001b[39mFalse\u001b[39;00m,\n\u001b[0;32m    532\u001b[0m ):\n\u001b[1;32m--> 533\u001b[0m     original_result \u001b[39m=\u001b[39m original(\u001b[39m*\u001b[39;49m_og_args, \u001b[39m*\u001b[39;49m\u001b[39m*\u001b[39;49m_og_kwargs)\n\u001b[0;32m    534\u001b[0m     \u001b[39mreturn\u001b[39;00m original_result\n",
      "File \u001b[1;32mc:\\Users\\jorgeantonio.lopez\\Anaconda3\\envs\\Pycaret_Challenge_Reviews\\lib\\site-packages\\keras\\utils\\traceback_utils.py:65\u001b[0m, in \u001b[0;36mfilter_traceback.<locals>.error_handler\u001b[1;34m(*args, **kwargs)\u001b[0m\n\u001b[0;32m     63\u001b[0m filtered_tb \u001b[39m=\u001b[39m \u001b[39mNone\u001b[39;00m\n\u001b[0;32m     64\u001b[0m \u001b[39mtry\u001b[39;00m:\n\u001b[1;32m---> 65\u001b[0m     \u001b[39mreturn\u001b[39;00m fn(\u001b[39m*\u001b[39;49margs, \u001b[39m*\u001b[39;49m\u001b[39m*\u001b[39;49mkwargs)\n\u001b[0;32m     66\u001b[0m \u001b[39mexcept\u001b[39;00m \u001b[39mException\u001b[39;00m \u001b[39mas\u001b[39;00m e:\n\u001b[0;32m     67\u001b[0m     filtered_tb \u001b[39m=\u001b[39m _process_traceback_frames(e\u001b[39m.\u001b[39m__traceback__)\n",
      "File \u001b[1;32mc:\\Users\\jorgeantonio.lopez\\Anaconda3\\envs\\Pycaret_Challenge_Reviews\\lib\\site-packages\\keras\\engine\\training.py:1637\u001b[0m, in \u001b[0;36mModel.fit\u001b[1;34m(self, x, y, batch_size, epochs, verbose, callbacks, validation_split, validation_data, shuffle, class_weight, sample_weight, initial_epoch, steps_per_epoch, validation_steps, validation_batch_size, validation_freq, max_queue_size, workers, use_multiprocessing)\u001b[0m\n\u001b[0;32m   1635\u001b[0m \u001b[39mif\u001b[39;00m \u001b[39mgetattr\u001b[39m(\u001b[39mself\u001b[39m, \u001b[39m\"\u001b[39m\u001b[39m_eval_data_handler\u001b[39m\u001b[39m\"\u001b[39m, \u001b[39mNone\u001b[39;00m) \u001b[39mis\u001b[39;00m \u001b[39mnot\u001b[39;00m \u001b[39mNone\u001b[39;00m:\n\u001b[0;32m   1636\u001b[0m     \u001b[39mdel\u001b[39;00m \u001b[39mself\u001b[39m\u001b[39m.\u001b[39m_eval_data_handler\n\u001b[1;32m-> 1637\u001b[0m callbacks\u001b[39m.\u001b[39;49mon_train_end(logs\u001b[39m=\u001b[39;49mtraining_logs)\n\u001b[0;32m   1638\u001b[0m \u001b[39mreturn\u001b[39;00m \u001b[39mself\u001b[39m\u001b[39m.\u001b[39mhistory\n",
      "File \u001b[1;32mc:\\Users\\jorgeantonio.lopez\\Anaconda3\\envs\\Pycaret_Challenge_Reviews\\lib\\site-packages\\keras\\callbacks.py:536\u001b[0m, in \u001b[0;36mCallbackList.on_train_end\u001b[1;34m(self, logs)\u001b[0m\n\u001b[0;32m    534\u001b[0m logs \u001b[39m=\u001b[39m \u001b[39mself\u001b[39m\u001b[39m.\u001b[39m_process_logs(logs)\n\u001b[0;32m    535\u001b[0m \u001b[39mfor\u001b[39;00m callback \u001b[39min\u001b[39;00m \u001b[39mself\u001b[39m\u001b[39m.\u001b[39mcallbacks:\n\u001b[1;32m--> 536\u001b[0m     callback\u001b[39m.\u001b[39;49mon_train_end(logs)\n",
      "File \u001b[1;32mc:\\Users\\jorgeantonio.lopez\\Anaconda3\\envs\\Pycaret_Challenge_Reviews\\lib\\site-packages\\mlflow\\utils\\autologging_utils\\safety.py:50\u001b[0m, in \u001b[0;36mexception_safe_function_for_class.<locals>.safe_function\u001b[1;34m(*args, **kwargs)\u001b[0m\n\u001b[0;32m     48\u001b[0m \u001b[39mdef\u001b[39;00m \u001b[39msafe_function\u001b[39m(\u001b[39m*\u001b[39margs, \u001b[39m*\u001b[39m\u001b[39m*\u001b[39mkwargs):\n\u001b[0;32m     49\u001b[0m     \u001b[39mtry\u001b[39;00m:\n\u001b[1;32m---> 50\u001b[0m         \u001b[39mreturn\u001b[39;00m function(\u001b[39m*\u001b[39;49margs, \u001b[39m*\u001b[39;49m\u001b[39m*\u001b[39;49mkwargs)\n\u001b[0;32m     51\u001b[0m     \u001b[39mexcept\u001b[39;00m \u001b[39mException\u001b[39;00m \u001b[39mas\u001b[39;00m e:\n\u001b[0;32m     52\u001b[0m         \u001b[39mif\u001b[39;00m is_testing():\n",
      "File \u001b[1;32mc:\\Users\\jorgeantonio.lopez\\Anaconda3\\envs\\Pycaret_Challenge_Reviews\\lib\\site-packages\\mlflow\\keras.py:732\u001b[0m, in \u001b[0;36mautolog.<locals>.getKerasCallback.<locals>.__MLflowKerasCallback.on_train_end\u001b[1;34m(self, logs)\u001b[0m\n\u001b[0;32m    728\u001b[0m \u001b[39mif\u001b[39;00m log_models:\n\u001b[0;32m    729\u001b[0m     registered_model_name \u001b[39m=\u001b[39m get_autologging_config(\n\u001b[0;32m    730\u001b[0m         FLAVOR_NAME, \u001b[39m\"\u001b[39m\u001b[39mregistered_model_name\u001b[39m\u001b[39m\"\u001b[39m, \u001b[39mNone\u001b[39;00m\n\u001b[0;32m    731\u001b[0m     )\n\u001b[1;32m--> 732\u001b[0m     log_model(\n\u001b[0;32m    733\u001b[0m         \u001b[39mself\u001b[39;49m\u001b[39m.\u001b[39;49mmodel,\n\u001b[0;32m    734\u001b[0m         artifact_path\u001b[39m=\u001b[39;49m\u001b[39m\"\u001b[39;49m\u001b[39mmodel\u001b[39;49m\u001b[39m\"\u001b[39;49m,\n\u001b[0;32m    735\u001b[0m         registered_model_name\u001b[39m=\u001b[39;49mregistered_model_name,\n\u001b[0;32m    736\u001b[0m     )\n",
      "File \u001b[1;32mc:\\Users\\jorgeantonio.lopez\\Anaconda3\\envs\\Pycaret_Challenge_Reviews\\lib\\site-packages\\mlflow\\keras.py:416\u001b[0m, in \u001b[0;36mlog_model\u001b[1;34m(keras_model, artifact_path, conda_env, code_paths, custom_objects, keras_module, registered_model_name, signature, input_example, await_registration_for, pip_requirements, extra_pip_requirements, **kwargs)\u001b[0m\n\u001b[0;32m    404\u001b[0m \u001b[39mif\u001b[39;00m signature \u001b[39mis\u001b[39;00m \u001b[39mnot\u001b[39;00m \u001b[39mNone\u001b[39;00m:\n\u001b[0;32m    405\u001b[0m     warnings\u001b[39m.\u001b[39mwarn(\n\u001b[0;32m    406\u001b[0m         \u001b[39m\"\u001b[39m\u001b[39mThe pyfunc inference behavior of Keras models logged \u001b[39m\u001b[39m\"\u001b[39m\n\u001b[0;32m    407\u001b[0m         \u001b[39m\"\u001b[39m\u001b[39mwith signatures differs from the behavior of Keras \u001b[39m\u001b[39m\"\u001b[39m\n\u001b[1;32m   (...)\u001b[0m\n\u001b[0;32m    414\u001b[0m         \u001b[39m\"\u001b[39m\u001b[39ma Pandas DataFrame output in response to a Pandas DataFrame input.\u001b[39m\u001b[39m\"\u001b[39m\n\u001b[0;32m    415\u001b[0m     )\n\u001b[1;32m--> 416\u001b[0m \u001b[39mreturn\u001b[39;00m Model\u001b[39m.\u001b[39;49mlog(\n\u001b[0;32m    417\u001b[0m     artifact_path\u001b[39m=\u001b[39;49martifact_path,\n\u001b[0;32m    418\u001b[0m     flavor\u001b[39m=\u001b[39;49mmlflow\u001b[39m.\u001b[39;49mkeras,\n\u001b[0;32m    419\u001b[0m     keras_model\u001b[39m=\u001b[39;49mkeras_model,\n\u001b[0;32m    420\u001b[0m     conda_env\u001b[39m=\u001b[39;49mconda_env,\n\u001b[0;32m    421\u001b[0m     code_paths\u001b[39m=\u001b[39;49mcode_paths,\n\u001b[0;32m    422\u001b[0m     custom_objects\u001b[39m=\u001b[39;49mcustom_objects,\n\u001b[0;32m    423\u001b[0m     keras_module\u001b[39m=\u001b[39;49mkeras_module,\n\u001b[0;32m    424\u001b[0m     registered_model_name\u001b[39m=\u001b[39;49mregistered_model_name,\n\u001b[0;32m    425\u001b[0m     signature\u001b[39m=\u001b[39;49msignature,\n\u001b[0;32m    426\u001b[0m     input_example\u001b[39m=\u001b[39;49minput_example,\n\u001b[0;32m    427\u001b[0m     await_registration_for\u001b[39m=\u001b[39;49mawait_registration_for,\n\u001b[0;32m    428\u001b[0m     pip_requirements\u001b[39m=\u001b[39;49mpip_requirements,\n\u001b[0;32m    429\u001b[0m     extra_pip_requirements\u001b[39m=\u001b[39;49mextra_pip_requirements,\n\u001b[0;32m    430\u001b[0m     \u001b[39m*\u001b[39;49m\u001b[39m*\u001b[39;49mkwargs,\n\u001b[0;32m    431\u001b[0m )\n",
      "File \u001b[1;32mc:\\Users\\jorgeantonio.lopez\\Anaconda3\\envs\\Pycaret_Challenge_Reviews\\lib\\site-packages\\mlflow\\models\\model.py:372\u001b[0m, in \u001b[0;36mModel.log\u001b[1;34m(cls, artifact_path, flavor, registered_model_name, await_registration_for, **kwargs)\u001b[0m\n\u001b[0;32m    370\u001b[0m run_id \u001b[39m=\u001b[39m mlflow\u001b[39m.\u001b[39mtracking\u001b[39m.\u001b[39mfluent\u001b[39m.\u001b[39m_get_or_start_run()\u001b[39m.\u001b[39minfo\u001b[39m.\u001b[39mrun_id\n\u001b[0;32m    371\u001b[0m mlflow_model \u001b[39m=\u001b[39m \u001b[39mcls\u001b[39m(artifact_path\u001b[39m=\u001b[39martifact_path, run_id\u001b[39m=\u001b[39mrun_id)\n\u001b[1;32m--> 372\u001b[0m flavor\u001b[39m.\u001b[39;49msave_model(path\u001b[39m=\u001b[39;49mlocal_path, mlflow_model\u001b[39m=\u001b[39;49mmlflow_model, \u001b[39m*\u001b[39;49m\u001b[39m*\u001b[39;49mkwargs)\n\u001b[0;32m    373\u001b[0m mlflow\u001b[39m.\u001b[39mtracking\u001b[39m.\u001b[39mfluent\u001b[39m.\u001b[39mlog_artifacts(local_path, mlflow_model\u001b[39m.\u001b[39martifact_path)\n\u001b[0;32m    374\u001b[0m \u001b[39mtry\u001b[39;00m:\n",
      "File \u001b[1;32mc:\\Users\\jorgeantonio.lopez\\Anaconda3\\envs\\Pycaret_Challenge_Reviews\\lib\\site-packages\\mlflow\\keras.py:298\u001b[0m, in \u001b[0;36msave_model\u001b[1;34m(keras_model, path, conda_env, code_paths, mlflow_model, custom_objects, keras_module, signature, input_example, pip_requirements, extra_pip_requirements, **kwargs)\u001b[0m\n\u001b[0;32m    295\u001b[0m     default_reqs \u001b[39m=\u001b[39m get_default_pip_requirements(include_cloudpickle, keras_module)\n\u001b[0;32m    296\u001b[0m     \u001b[39m# To ensure `_load_pyfunc` can successfully load the model during the dependency\u001b[39;00m\n\u001b[0;32m    297\u001b[0m     \u001b[39m# inference, `mlflow_model.save` must be called beforehand to save an MLmodel file.\u001b[39;00m\n\u001b[1;32m--> 298\u001b[0m     inferred_reqs \u001b[39m=\u001b[39m mlflow\u001b[39m.\u001b[39;49mmodels\u001b[39m.\u001b[39;49minfer_pip_requirements(\n\u001b[0;32m    299\u001b[0m         path, FLAVOR_NAME, fallback\u001b[39m=\u001b[39;49mdefault_reqs\n\u001b[0;32m    300\u001b[0m     )\n\u001b[0;32m    301\u001b[0m     default_reqs \u001b[39m=\u001b[39m \u001b[39msorted\u001b[39m(\u001b[39mset\u001b[39m(inferred_reqs)\u001b[39m.\u001b[39munion(default_reqs))\n\u001b[0;32m    302\u001b[0m \u001b[39melse\u001b[39;00m:\n",
      "File \u001b[1;32mc:\\Users\\jorgeantonio.lopez\\Anaconda3\\envs\\Pycaret_Challenge_Reviews\\lib\\site-packages\\mlflow\\utils\\environment.py:378\u001b[0m, in \u001b[0;36minfer_pip_requirements\u001b[1;34m(model_uri, flavor, fallback)\u001b[0m\n\u001b[0;32m    367\u001b[0m \u001b[39m\"\"\"\u001b[39;00m\n\u001b[0;32m    368\u001b[0m \u001b[39mInfers the pip requirements of the specified model by creating a subprocess and loading\u001b[39;00m\n\u001b[0;32m    369\u001b[0m \u001b[39mthe model in it to determine which packages are imported.\u001b[39;00m\n\u001b[1;32m   (...)\u001b[0m\n\u001b[0;32m    375\u001b[0m \u001b[39m:return: A list of inferred pip requirements (e.g. ``[\"scikit-learn==0.24.2\", ...]``).\u001b[39;00m\n\u001b[0;32m    376\u001b[0m \u001b[39m\"\"\"\u001b[39;00m\n\u001b[0;32m    377\u001b[0m \u001b[39mtry\u001b[39;00m:\n\u001b[1;32m--> 378\u001b[0m     \u001b[39mreturn\u001b[39;00m _infer_requirements(model_uri, flavor)\n\u001b[0;32m    379\u001b[0m \u001b[39mexcept\u001b[39;00m \u001b[39mException\u001b[39;00m:\n\u001b[0;32m    380\u001b[0m     \u001b[39mif\u001b[39;00m fallback \u001b[39mis\u001b[39;00m \u001b[39mnot\u001b[39;00m \u001b[39mNone\u001b[39;00m:\n",
      "File \u001b[1;32mc:\\Users\\jorgeantonio.lopez\\Anaconda3\\envs\\Pycaret_Challenge_Reviews\\lib\\site-packages\\mlflow\\utils\\requirements_utils.py:361\u001b[0m, in \u001b[0;36m_infer_requirements\u001b[1;34m(model_uri, flavor)\u001b[0m\n\u001b[0;32m    358\u001b[0m \u001b[39mif\u001b[39;00m _PYPI_PACKAGE_INDEX \u001b[39mis\u001b[39;00m \u001b[39mNone\u001b[39;00m:\n\u001b[0;32m    359\u001b[0m     _PYPI_PACKAGE_INDEX \u001b[39m=\u001b[39m _load_pypi_package_index()\n\u001b[1;32m--> 361\u001b[0m modules \u001b[39m=\u001b[39m _capture_imported_modules(model_uri, flavor)\n\u001b[0;32m    362\u001b[0m packages \u001b[39m=\u001b[39m _flatten([_MODULES_TO_PACKAGES\u001b[39m.\u001b[39mget(module, []) \u001b[39mfor\u001b[39;00m module \u001b[39min\u001b[39;00m modules])\n\u001b[0;32m    363\u001b[0m packages \u001b[39m=\u001b[39m \u001b[39mmap\u001b[39m(_normalize_package_name, packages)\n",
      "File \u001b[1;32mc:\\Users\\jorgeantonio.lopez\\Anaconda3\\envs\\Pycaret_Challenge_Reviews\\lib\\site-packages\\mlflow\\utils\\requirements_utils.py:266\u001b[0m, in \u001b[0;36m_capture_imported_modules\u001b[1;34m(model_uri, flavor)\u001b[0m\n\u001b[0;32m    264\u001b[0m \u001b[39mwith\u001b[39;00m tempfile\u001b[39m.\u001b[39mTemporaryDirectory() \u001b[39mas\u001b[39;00m tmpdir:\n\u001b[0;32m    265\u001b[0m     output_file \u001b[39m=\u001b[39m os\u001b[39m.\u001b[39mpath\u001b[39m.\u001b[39mjoin(tmpdir, \u001b[39m\"\u001b[39m\u001b[39mimported_modules.txt\u001b[39m\u001b[39m\"\u001b[39m)\n\u001b[1;32m--> 266\u001b[0m     _run_command(\n\u001b[0;32m    267\u001b[0m         [\n\u001b[0;32m    268\u001b[0m             sys\u001b[39m.\u001b[39;49mexecutable,\n\u001b[0;32m    269\u001b[0m             _capture_modules\u001b[39m.\u001b[39;49m\u001b[39m__file__\u001b[39;49m,\n\u001b[0;32m    270\u001b[0m             \u001b[39m\"\u001b[39;49m\u001b[39m--model-path\u001b[39;49m\u001b[39m\"\u001b[39;49m,\n\u001b[0;32m    271\u001b[0m             local_model_path,\n\u001b[0;32m    272\u001b[0m             \u001b[39m\"\u001b[39;49m\u001b[39m--flavor\u001b[39;49m\u001b[39m\"\u001b[39;49m,\n\u001b[0;32m    273\u001b[0m             flavor,\n\u001b[0;32m    274\u001b[0m             \u001b[39m\"\u001b[39;49m\u001b[39m--output-file\u001b[39;49m\u001b[39m\"\u001b[39;49m,\n\u001b[0;32m    275\u001b[0m             output_file,\n\u001b[0;32m    276\u001b[0m             \u001b[39m\"\u001b[39;49m\u001b[39m--sys-path\u001b[39;49m\u001b[39m\"\u001b[39;49m,\n\u001b[0;32m    277\u001b[0m             json\u001b[39m.\u001b[39;49mdumps(sys\u001b[39m.\u001b[39;49mpath),\n\u001b[0;32m    278\u001b[0m         ],\n\u001b[0;32m    279\u001b[0m     )\n\u001b[0;32m    280\u001b[0m     \u001b[39mwith\u001b[39;00m \u001b[39mopen\u001b[39m(output_file) \u001b[39mas\u001b[39;00m f:\n\u001b[0;32m    281\u001b[0m         \u001b[39mreturn\u001b[39;00m f\u001b[39m.\u001b[39mread()\u001b[39m.\u001b[39msplitlines()\n",
      "File \u001b[1;32mc:\\Users\\jorgeantonio.lopez\\Anaconda3\\envs\\Pycaret_Challenge_Reviews\\lib\\site-packages\\mlflow\\utils\\requirements_utils.py:206\u001b[0m, in \u001b[0;36m_run_command\u001b[1;34m(cmd)\u001b[0m\n\u001b[0;32m    202\u001b[0m \u001b[39m\"\"\"\u001b[39;00m\n\u001b[0;32m    203\u001b[0m \u001b[39mRuns the specified command. If it exits with non-zero status, `MlflowException` is raised.\u001b[39;00m\n\u001b[0;32m    204\u001b[0m \u001b[39m\"\"\"\u001b[39;00m\n\u001b[0;32m    205\u001b[0m proc \u001b[39m=\u001b[39m subprocess\u001b[39m.\u001b[39mPopen(cmd, stdout\u001b[39m=\u001b[39msubprocess\u001b[39m.\u001b[39mPIPE, stderr\u001b[39m=\u001b[39msubprocess\u001b[39m.\u001b[39mPIPE)\n\u001b[1;32m--> 206\u001b[0m stdout, stderr \u001b[39m=\u001b[39m proc\u001b[39m.\u001b[39;49mcommunicate()\n\u001b[0;32m    207\u001b[0m stdout \u001b[39m=\u001b[39m stdout\u001b[39m.\u001b[39mdecode(\u001b[39m\"\u001b[39m\u001b[39mutf-8\u001b[39m\u001b[39m\"\u001b[39m)\n\u001b[0;32m    208\u001b[0m stderr \u001b[39m=\u001b[39m stderr\u001b[39m.\u001b[39mdecode(\u001b[39m\"\u001b[39m\u001b[39mutf-8\u001b[39m\u001b[39m\"\u001b[39m)\n",
      "File \u001b[1;32mc:\\Users\\jorgeantonio.lopez\\Anaconda3\\envs\\Pycaret_Challenge_Reviews\\lib\\subprocess.py:1024\u001b[0m, in \u001b[0;36mPopen.communicate\u001b[1;34m(self, input, timeout)\u001b[0m\n\u001b[0;32m   1021\u001b[0m     endtime \u001b[39m=\u001b[39m \u001b[39mNone\u001b[39;00m\n\u001b[0;32m   1023\u001b[0m \u001b[39mtry\u001b[39;00m:\n\u001b[1;32m-> 1024\u001b[0m     stdout, stderr \u001b[39m=\u001b[39m \u001b[39mself\u001b[39;49m\u001b[39m.\u001b[39;49m_communicate(\u001b[39minput\u001b[39;49m, endtime, timeout)\n\u001b[0;32m   1025\u001b[0m \u001b[39mexcept\u001b[39;00m \u001b[39mKeyboardInterrupt\u001b[39;00m:\n\u001b[0;32m   1026\u001b[0m     \u001b[39m# https://bugs.python.org/issue25942\u001b[39;00m\n\u001b[0;32m   1027\u001b[0m     \u001b[39m# See the detailed comment in .wait().\u001b[39;00m\n\u001b[0;32m   1028\u001b[0m     \u001b[39mif\u001b[39;00m timeout \u001b[39mis\u001b[39;00m \u001b[39mnot\u001b[39;00m \u001b[39mNone\u001b[39;00m:\n",
      "File \u001b[1;32mc:\\Users\\jorgeantonio.lopez\\Anaconda3\\envs\\Pycaret_Challenge_Reviews\\lib\\subprocess.py:1395\u001b[0m, in \u001b[0;36mPopen._communicate\u001b[1;34m(self, input, endtime, orig_timeout)\u001b[0m\n\u001b[0;32m   1391\u001b[0m \u001b[39m# Wait for the reader threads, or time out.  If we time out, the\u001b[39;00m\n\u001b[0;32m   1392\u001b[0m \u001b[39m# threads remain reading and the fds left open in case the user\u001b[39;00m\n\u001b[0;32m   1393\u001b[0m \u001b[39m# calls communicate again.\u001b[39;00m\n\u001b[0;32m   1394\u001b[0m \u001b[39mif\u001b[39;00m \u001b[39mself\u001b[39m\u001b[39m.\u001b[39mstdout \u001b[39mis\u001b[39;00m \u001b[39mnot\u001b[39;00m \u001b[39mNone\u001b[39;00m:\n\u001b[1;32m-> 1395\u001b[0m     \u001b[39mself\u001b[39;49m\u001b[39m.\u001b[39;49mstdout_thread\u001b[39m.\u001b[39;49mjoin(\u001b[39mself\u001b[39;49m\u001b[39m.\u001b[39;49m_remaining_time(endtime))\n\u001b[0;32m   1396\u001b[0m     \u001b[39mif\u001b[39;00m \u001b[39mself\u001b[39m\u001b[39m.\u001b[39mstdout_thread\u001b[39m.\u001b[39mis_alive():\n\u001b[0;32m   1397\u001b[0m         \u001b[39mraise\u001b[39;00m TimeoutExpired(\u001b[39mself\u001b[39m\u001b[39m.\u001b[39margs, orig_timeout)\n",
      "File \u001b[1;32mc:\\Users\\jorgeantonio.lopez\\Anaconda3\\envs\\Pycaret_Challenge_Reviews\\lib\\threading.py:1011\u001b[0m, in \u001b[0;36mThread.join\u001b[1;34m(self, timeout)\u001b[0m\n\u001b[0;32m   1008\u001b[0m     \u001b[39mraise\u001b[39;00m \u001b[39mRuntimeError\u001b[39;00m(\u001b[39m\"\u001b[39m\u001b[39mcannot join current thread\u001b[39m\u001b[39m\"\u001b[39m)\n\u001b[0;32m   1010\u001b[0m \u001b[39mif\u001b[39;00m timeout \u001b[39mis\u001b[39;00m \u001b[39mNone\u001b[39;00m:\n\u001b[1;32m-> 1011\u001b[0m     \u001b[39mself\u001b[39;49m\u001b[39m.\u001b[39;49m_wait_for_tstate_lock()\n\u001b[0;32m   1012\u001b[0m \u001b[39melse\u001b[39;00m:\n\u001b[0;32m   1013\u001b[0m     \u001b[39m# the behavior of a negative timeout isn't documented, but\u001b[39;00m\n\u001b[0;32m   1014\u001b[0m     \u001b[39m# historically .join(timeout=x) for x<0 has acted as if timeout=0\u001b[39;00m\n\u001b[0;32m   1015\u001b[0m     \u001b[39mself\u001b[39m\u001b[39m.\u001b[39m_wait_for_tstate_lock(timeout\u001b[39m=\u001b[39m\u001b[39mmax\u001b[39m(timeout, \u001b[39m0\u001b[39m))\n",
      "File \u001b[1;32mc:\\Users\\jorgeantonio.lopez\\Anaconda3\\envs\\Pycaret_Challenge_Reviews\\lib\\threading.py:1027\u001b[0m, in \u001b[0;36mThread._wait_for_tstate_lock\u001b[1;34m(self, block, timeout)\u001b[0m\n\u001b[0;32m   1025\u001b[0m \u001b[39mif\u001b[39;00m lock \u001b[39mis\u001b[39;00m \u001b[39mNone\u001b[39;00m:  \u001b[39m# already determined that the C code is done\u001b[39;00m\n\u001b[0;32m   1026\u001b[0m     \u001b[39massert\u001b[39;00m \u001b[39mself\u001b[39m\u001b[39m.\u001b[39m_is_stopped\n\u001b[1;32m-> 1027\u001b[0m \u001b[39melif\u001b[39;00m lock\u001b[39m.\u001b[39;49macquire(block, timeout):\n\u001b[0;32m   1028\u001b[0m     lock\u001b[39m.\u001b[39mrelease()\n\u001b[0;32m   1029\u001b[0m     \u001b[39mself\u001b[39m\u001b[39m.\u001b[39m_stop()\n",
      "\u001b[1;31mKeyboardInterrupt\u001b[0m: "
     ]
    }
   ],
   "source": [
    "if __name__ == \"__main__\":\n",
    "    warnings.filterwarnings(\"ignore\")\n",
    "    np.random.seed(40)\n",
    "    \n",
    "    mlflow.autolog()\n",
    "    #with mlflow.start_run(experiment_id=experiment_id_tf) as run:\n",
    "    with mlflow.start_run(experiment_id=experiment_id_tf, run_name=\"Experiment 4\") as run:\n",
    "\n",
    "            mlflow.set_tag(\"mlflow.runName\", \"Experiment 4\")\n",
    "            epochs = 10\n",
    "            batch_size = 32\n",
    "            learning_rates = 0.001\n",
    "\n",
    "            optimizer=keras.optimizers.Adam(learning_rate=learning_rates)\n",
    "\n",
    "            # Log the model parameters used for this run.\n",
    "            #mlflow.log_param(\"learning_rate\", learning_rates)\n",
    "            #mlflow.log_param(\"batch_size\", batch_size)\n",
    "            #mlflow.log_param(\"epochs\", epochs)\n",
    "\n",
    "            model = Sequential()\n",
    "            model.add(Dense(8, input_shape=(2,), activation = \"relu\"))\n",
    "            model.add(Dense(1,activation = \"sigmoid\"))\n",
    "            model.compile(loss=\"binary_crossentropy\" , optimizer=optimizer, metrics=[\"binary_accuracy\"])\n",
    "\n",
    "            history = model.fit(X_train,y_train, batch_size=batch_size, epochs=epochs, verbose=1, validation_split=0.1)\n",
    "\n",
    "           # log input features\n",
    "            #mlflow.set_tag(\"features\", str(X_train.columns.values.tolist()))\n",
    "\n",
    "            #mlflow.log_metric(\"train_binary_accuracy\", history.history['binary_accuracy'][-1])\n",
    "            #mlflow.log_metric(\"val_binary_accuracy\", history.history['val_binary_accuracy'][-1])\n",
    "            #mlflow.log_metric(\"train_loss\", history.history['loss'][-1])\n",
    "            #mlflow.log_metric(\"val_loss\", history.history['val_loss'][-1])\n",
    "\n",
    "            fig, ax = plt.subplots(2,1)\n",
    "            ax[0].plot(history.history['loss'], color='b', label=\"Training loss\")\n",
    "            ax[0].plot(history.history['val_loss'], color='r', label=\"Validation loss\",axes =ax[0])\n",
    "            legend = ax[0].legend(loc='best', shadow=True)\n",
    "\n",
    "            ax[1].plot(history.history['binary_accuracy'], color='b', label=\"Training binary accuracy\")\n",
    "            ax[1].plot(history.history['val_binary_accuracy'], color='r',label=\"Validation binary accuracy\")\n",
    "            legend = ax[1].legend(loc='best', shadow=True)\n",
    "\n",
    "            test_loss, test_binary_accuracy = model.evaluate(X_test, y_test)\n",
    "            print(\"Test test_binary_accuracy: {}\".format(test_binary_accuracy))\n",
    "\n",
    "            mlflow.log_metric(\"test_loss\", test_loss)\n",
    "            mlflow.log_metric(\"test_binary_accuracy\", test_binary_accuracy)\n",
    "\n",
    "            # get model signature\n",
    "            signature = infer_signature(model_input=X_train, model_output=model.predict(X_train))\n",
    "\n",
    "            # Save the plot and log it as an artifact\n",
    "            \n",
    "            plt.savefig(\"behavior_plot.png\")\n",
    "            mlflow.log_artifact(\"behavior_plot.png\")\n",
    "\n",
    "            tracking_url_type_store = urlparse(mlflow.get_tracking_uri()).scheme\n",
    "\n",
    "            print('tracking_url_type_store:',tracking_url_type_store)\n",
    "\n",
    "            mlflow.set_tracking_uri(\"http://localhost:5000\")\n",
    "\n",
    "            #from tensorflow.python.saved_model import signature_constants\n",
    "            #tag=[keras.saved_model.tag_constants.SERVING]\n",
    "            #tag=[tensorflow.compat.v1.saved_model.tag_constants.SERVING]\n",
    "            #key=signature_constants.DEFAULT_SERVING_SIGNATURE_DEF_KEY\n",
    "\n",
    "            # Model registry does not work with file store\n",
    "            if tracking_url_type_store != \"file\":\n",
    "\n",
    "                # Register the model\n",
    "                # There are other ways to use the Model Registry, which depends on the use case,\n",
    "                # please refer to the doc for more information:\n",
    "                # https://mlflow.org/docs/latest/model-registry.html#api-workflow\n",
    "                # Save model to artifacts\n",
    "                mlflow.keras.log_model(keras_model = model, artifact_path='keras-models',signature=signature,\n",
    "                registered_model_name=\"keras-modelo-1\")\n",
    "            else:\n",
    "                # Save model to artifacts\n",
    "                mlflow.keras.log_model(keras_model = model, artifact_path=\"keras-models\",signature=signature,\n",
    "                registered_model_name=\"keras-modelo-1\")\n",
    "                #mlflow.keras.log_model()\n",
    "\n",
    "# fetch the auto logged parameters and metrics for ended run\n",
    "print_auto_logged_info(mlflow.get_run(run_id=run.info.run_id))\n",
    "\n",
    "mlflow.end_run()\n"
   ]
  },
  {
   "cell_type": "code",
   "execution_count": null,
   "metadata": {},
   "outputs": [],
   "source": [
    "model_name = \"keras-modelo-1\"\n",
    "\n",
    "# Delete versions 1,2, and 3 of the model\n",
    "client = MlflowClient()\n",
    "versions=[1, 2, 3]\n",
    "for version in versions:\n",
    "    client.delete_model_version(name=model_name, version=version)\n",
    "\n",
    "# Delete a registered model along with all its versions\n",
    "client.delete_registered_model(name=\"sk-learn-random-forest-reg-model\")"
   ]
  },
  {
   "cell_type": "code",
   "execution_count": null,
   "metadata": {},
   "outputs": [],
   "source": [
    "def print_auto_logged_info(r):\n",
    "    tags = {k: v for k, v in r.data.tags.items() if not k.startswith(\"mlflow.\")}\n",
    "    artifacts = [f.path for f in MlflowClient().list_artifacts(r.info.run_id, \"model\")]\n",
    "    print(\"run_id: {}\".format(r.info.run_id))\n",
    "    print(\"artifacts: {}\".format(artifacts))\n",
    "    print(\"params: {}\".format(r.data.params))\n",
    "    print(\"metrics: {}\".format(r.data.metrics))\n",
    "    print(\"tags: {}\".format(tags))\n"
   ]
  },
  {
   "cell_type": "code",
   "execution_count": 19,
   "metadata": {},
   "outputs": [
    {
     "name": "stdout",
     "output_type": "stream",
     "text": [
      "Name: Tensorflow Experiments\n",
      "Artifact Location: file:///c:/Archivos%20Globant/Globant/Challenge/Challenge%20-%20NLP%20reviews/tutorial_mlflow/mlflow-tensorflow\n",
      "Lifecycle_stage: active\n",
      "Experiment ID: 1\n"
     ]
    }
   ],
   "source": [
    "experiment = mlflow.get_experiment('1')\n",
    "print(\"Name: {}\".format(experiment.name))\n",
    "print(\"Artifact Location: {}\".format(experiment.artifact_location))\n",
    "print(\"Lifecycle_stage: {}\".format(experiment.lifecycle_stage))\n",
    "print(\"Experiment ID: {}\".format(experiment.experiment_id))"
   ]
  },
  {
   "cell_type": "code",
   "execution_count": 24,
   "id": "1568ad33",
   "metadata": {},
   "outputs": [
    {
     "data": {
      "text/plain": [
       "<ModelVersion: creation_timestamp=1666912972955, current_stage='Production', description='', last_updated_timestamp=1666914598763, name='keras-modelo-1', run_id='fcf1cca02ec24277bdeee5bb671acf33', run_link='', source='file:///c:/Archivos%20Globant/Globant/Challenge/Challenge%20-%20NLP%20reviews/tutorial_mlflow/mlflow-tensorflow/fcf1cca02ec24277bdeee5bb671acf33/artifacts/keras-models', status='READY', status_message='', tags={}, user_id='', version='1'>"
      ]
     },
     "execution_count": 24,
     "metadata": {},
     "output_type": "execute_result"
    }
   ],
   "source": [
    "model_name = \"keras-modelo-1\"\n",
    "\n",
    "# Importing MLflow in Python\n",
    "import mlflow\n",
    "# Initializing the MLflowClient\n",
    "client = mlflow.tracking.MlflowClient()\n",
    "# Transitioning the model into either Staging, Production, or Archived based on version number\n",
    "client.transition_model_version_stage(name=model_name, version=1, stage=\"Production\")\n"
   ]
  },
  {
   "cell_type": "code",
   "execution_count": 23,
   "id": "245e574d",
   "metadata": {},
   "outputs": [
    {
     "data": {
      "text/plain": [
       "'C:/Archivos Globant/Globant/Challenge/Challenge - NLP reviews'"
      ]
     },
     "execution_count": 23,
     "metadata": {},
     "output_type": "execute_result"
    }
   ],
   "source": [
    "os.path.dirname('C:/Archivos Globant/Globant/Challenge/Challenge - NLP reviews/mlflow.db')"
   ]
  },
  {
   "cell_type": "code",
   "execution_count": 30,
   "id": "3a3d4828",
   "metadata": {},
   "outputs": [
    {
     "name": "stdout",
     "output_type": "stream",
     "text": [
      "11/11 [==============================] - 0s 1ms/step\n",
      "Predictions:\n",
      " [[0.9564974 ]\n",
      " [0.20105423]\n",
      " [0.79013395]\n",
      " [0.9609186 ]\n",
      " [0.17860295]\n",
      " [0.84820294]\n",
      " [0.18752398]\n",
      " [0.21403374]\n",
      " [0.20855944]\n",
      " [0.7554943 ]]\n"
     ]
    }
   ],
   "source": [
    "import mlflow.pyfunc\n",
    "\n",
    "model_name = \"keras-modelo-1\"\n",
    "model_version = 1\n",
    "\n",
    "model_pba = mlflow.pyfunc.load_model(f\"models:/{model_name}/production\")\n",
    "\n",
    "pred_y = model_pba.predict(X_test)\n",
    "\n",
    "# Sanity-check: This should match the AUC logged by MLflow\n",
    "print(f\"Predictions:\\n {pred_y[0:10]}\")"
   ]
  },
  {
   "cell_type": "code",
   "execution_count": 31,
   "metadata": {},
   "outputs": [
    {
     "name": "stdout",
     "output_type": "stream",
     "text": [
      "Loading registered model version from URI: 'models:/keras-modelo-1/production'\n",
      "11/11 [==============================] - 0s 999us/step\n",
      "Predictions:\n",
      " [[0.9564974 ]\n",
      " [0.20105423]\n",
      " [0.79013395]\n",
      " [0.9609186 ]\n",
      " [0.17860295]\n",
      " [0.84820294]\n",
      " [0.18752398]\n",
      " [0.21403374]\n",
      " [0.20855944]\n",
      " [0.7554943 ]]\n"
     ]
    }
   ],
   "source": [
    "import mlflow.pyfunc\n",
    "\n",
    "model_name = \"keras-modelo-1\"\n",
    "model_version = 1\n",
    "\n",
    "model_version_uri = \"models:/{model_name}/production\".format(model_name=model_name)\n",
    "\n",
    "print(\"Loading registered model version from URI: '{model_uri}'\".format(model_uri=model_version_uri))\n",
    "model_version_1 = mlflow.pyfunc.load_model(model_version_uri)\n",
    "\n",
    "pred_y = model_version_1.predict(X_test)\n",
    "\n",
    "# Sanity-check: This should match the AUC logged by MLflow\n",
    "print(f\"Predictions:\\n {pred_y[0:10]}\")"
   ]
  },
  {
   "cell_type": "code",
   "execution_count": 27,
   "metadata": {},
   "outputs": [
    {
     "data": {
      "text/plain": [
       "'fcf1cca02ec24277bdeee5bb671acf33'"
      ]
     },
     "execution_count": 27,
     "metadata": {},
     "output_type": "execute_result"
    }
   ],
   "source": [
    "run.info.run_id"
   ]
  },
  {
   "cell_type": "code",
   "execution_count": 28,
   "id": "192b0ef7",
   "metadata": {},
   "outputs": [
    {
     "name": "stderr",
     "output_type": "stream",
     "text": [
      "Registered model 'keras-modelo-1' already exists. Creating a new version of this model...\n",
      "2022/10/27 18:51:48 INFO mlflow.tracking._model_registry.client: Waiting up to 300 seconds for model version to finish creation.                     Model name: keras-modelo-1, version 2\n",
      "Created version '2' of model 'keras-modelo-1'.\n"
     ]
    }
   ],
   "source": [
    "# The second way is to use the mlflow.register_model() method, after all your experiment runs complete and when \n",
    "# you have decided which model is most suitable to add to the registry. For this method, you will need the run_id\n",
    "# as part of the runs:URI argument.\n",
    "\n",
    "model_name=\"keras-modelo-1\"\n",
    "\n",
    "result = mlflow.register_model(\n",
    "    \"runs:/fcf1cca02ec24277bdeee5bb671acf33/artifacts/keras-models\",  #/production ????\n",
    "    model_name\n",
    ")"
   ]
  },
  {
   "cell_type": "markdown",
   "metadata": {},
   "source": [
    "### Eliminación Version 1del modelo de previsión de potencia\n",
    "También puede usar la interfaz de usuario de MLflow o la API de MLflow para eliminar versiones del modelo. La eliminación de la versión del modelo es permanente y no se puede deshacer.\n",
    "\n",
    "Las siguientes celdas proporcionan una referencia para eliminar Version 1el modelo de pronóstico de energía mediante la API de MLflow. Consulte la documentación sobre cómo eliminar una versión del modelo mediante la interfaz de usuario.\n",
    "\n",
    "### Eliminar Version 1usando la API de MLflow\n",
    "\n",
    "La siguiente celda elimina permanentemente Version 1del modelo de pronóstico de energía."
   ]
  },
  {
   "cell_type": "code",
   "execution_count": null,
   "id": "d2d7bd24",
   "metadata": {},
   "outputs": [],
   "source": [
    "model_name = \"keras-modelo-1\"\n",
    "\n",
    "# Delete versions 1,2, and 3 of the model\n",
    "client = MlflowClient()\n",
    "versions=[1, 2, 3]\n",
    "for version in versions:\n",
    "    client.delete_model_version(name=model_name, version=version)\n"
   ]
  },
  {
   "cell_type": "markdown",
   "metadata": {},
   "source": [
    "### Eliminar el modelo de pronóstico de energía\n",
    "Si desea eliminar un modelo registrado completo, incluidas todas sus versiones de modelo, puede utilizar MlflowClient.delete_registered_model()para hacerlo. Esta acción no se puede deshacer. Primero debe realizar la transición de todas las etapas de la versión del modelo a Ninguno o Archivado .\n",
    "\n",
    "**_Advertencia: La siguiente celda elimina permanentemente el modelo de pronóstico de energía, incluidas todas sus versiones._**"
   ]
  },
  {
   "cell_type": "code",
   "execution_count": null,
   "metadata": {},
   "outputs": [],
   "source": [
    "model_name = \"keras-modelo-1\"\n",
    "\n",
    "client.transition_model_version_stage(\n",
    "  name=model_name,\n",
    "  version=2,\n",
    "  stage=\"Archived\"\n",
    ")\n",
    " \n",
    "client.delete_registered_model(name=model_name)"
   ]
  },
  {
   "cell_type": "code",
   "execution_count": null,
   "id": "35bd0955",
   "metadata": {},
   "outputs": [],
   "source": [
    "model_name = \"keras-modelo-1\"\n",
    "\n",
    "# Delete a registered model along with all its versions\n",
    "client.delete_registered_model(name=model_name)"
   ]
  },
  {
   "cell_type": "code",
   "execution_count": null,
   "id": "d74c3e67",
   "metadata": {},
   "outputs": [
    {
     "name": "stdout",
     "output_type": "stream",
     "text": [
      "11/11 [==============================] - 0s 1ms/step - loss: 0.2002 - binary_accuracy: 0.9788\n",
      "Loss: 0.20022185146808624\n",
      "Accuracy: 0.978787899017334\n"
     ]
    }
   ],
   "source": [
    "score = model.evaluate(X_test, y_test, batch_size=batch_size, verbose=1)\n",
    "print(f\"Loss: {score[0]}\")\n",
    "print(f\"Accuracy: {score[1]}\")"
   ]
  },
  {
   "cell_type": "code",
   "execution_count": 26,
   "id": "62a48388",
   "metadata": {},
   "outputs": [
    {
     "data": {
      "text/plain": [
       "'fcf1cca02ec24277bdeee5bb671acf33'"
      ]
     },
     "execution_count": 26,
     "metadata": {},
     "output_type": "execute_result"
    }
   ],
   "source": [
    "run.info.run_id"
   ]
  },
  {
   "cell_type": "code",
   "execution_count": null,
   "metadata": {},
   "outputs": [],
   "source": []
  },
  {
   "cell_type": "code",
   "execution_count": null,
   "metadata": {},
   "outputs": [],
   "source": []
  },
  {
   "cell_type": "code",
   "execution_count": null,
   "id": "32f205dd",
   "metadata": {},
   "outputs": [
    {
     "ename": "MlflowException",
     "evalue": "Experiment 'Keras Experiments' already exists.",
     "output_type": "error",
     "traceback": [
      "\u001b[1;31m---------------------------------------------------------------------------\u001b[0m\n",
      "\u001b[1;31mMlflowException\u001b[0m                           Traceback (most recent call last)\n",
      "\u001b[1;32mc:\\Archivos Globant\\Globant\\Challenge\\Challenge - NLP reviews\\Pycaret Tutorial.ipynb Cell 229\u001b[0m in \u001b[0;36m<cell line: 28>\u001b[1;34m()\u001b[0m\n",
      "\u001b[0;32m     <a href='vscode-notebook-cell:/c%3A/Archivos%20Globant/Globant/Challenge/Challenge%20-%20NLP%20reviews/Pycaret%20Tutorial.ipynb#Z1061sZmlsZQ%3D%3D?line=24'>25</a>\u001b[0m \u001b[39mfrom\u001b[39;00m \u001b[39mpathlib\u001b[39;00m \u001b[39mimport\u001b[39;00m Path\n",
      "\u001b[0;32m     <a href='vscode-notebook-cell:/c%3A/Archivos%20Globant/Globant/Challenge/Challenge%20-%20NLP%20reviews/Pycaret%20Tutorial.ipynb#Z1061sZmlsZQ%3D%3D?line=26'>27</a>\u001b[0m \u001b[39m# Create an experiment name, which must be unique and case sensitive\u001b[39;00m\n",
      "\u001b[1;32m---> <a href='vscode-notebook-cell:/c%3A/Archivos%20Globant/Globant/Challenge/Challenge%20-%20NLP%20reviews/Pycaret%20Tutorial.ipynb#Z1061sZmlsZQ%3D%3D?line=27'>28</a>\u001b[0m experiment_id \u001b[39m=\u001b[39m mlflow\u001b[39m.\u001b[39;49mcreate_experiment(\n",
      "\u001b[0;32m     <a href='vscode-notebook-cell:/c%3A/Archivos%20Globant/Globant/Challenge/Challenge%20-%20NLP%20reviews/Pycaret%20Tutorial.ipynb#Z1061sZmlsZQ%3D%3D?line=28'>29</a>\u001b[0m     \u001b[39m\"\u001b[39;49m\u001b[39mKeras Experiments\u001b[39;49m\u001b[39m\"\u001b[39;49m,\n",
      "\u001b[0;32m     <a href='vscode-notebook-cell:/c%3A/Archivos%20Globant/Globant/Challenge/Challenge%20-%20NLP%20reviews/Pycaret%20Tutorial.ipynb#Z1061sZmlsZQ%3D%3D?line=29'>30</a>\u001b[0m \u001b[39m#    artifact_location=Path.cwd().joinpath(\"mlruns\").as_uri(),\u001b[39;49;00m\n",
      "\u001b[0;32m     <a href='vscode-notebook-cell:/c%3A/Archivos%20Globant/Globant/Challenge/Challenge%20-%20NLP%20reviews/Pycaret%20Tutorial.ipynb#Z1061sZmlsZQ%3D%3D?line=30'>31</a>\u001b[0m     tags\u001b[39m=\u001b[39;49m{\u001b[39m\"\u001b[39;49m\u001b[39mversion\u001b[39;49m\u001b[39m\"\u001b[39;49m: \u001b[39m\"\u001b[39;49m\u001b[39mv2\u001b[39;49m\u001b[39m\"\u001b[39;49m, \u001b[39m\"\u001b[39;49m\u001b[39mpriority\u001b[39;49m\u001b[39m\"\u001b[39;49m: \u001b[39m\"\u001b[39;49m\u001b[39mP1\u001b[39;49m\u001b[39m\"\u001b[39;49m},\n",
      "\u001b[0;32m     <a href='vscode-notebook-cell:/c%3A/Archivos%20Globant/Globant/Challenge/Challenge%20-%20NLP%20reviews/Pycaret%20Tutorial.ipynb#Z1061sZmlsZQ%3D%3D?line=31'>32</a>\u001b[0m )\n",
      "\u001b[0;32m     <a href='vscode-notebook-cell:/c%3A/Archivos%20Globant/Globant/Challenge/Challenge%20-%20NLP%20reviews/Pycaret%20Tutorial.ipynb#Z1061sZmlsZQ%3D%3D?line=33'>34</a>\u001b[0m experiment \u001b[39m=\u001b[39m mlflow\u001b[39m.\u001b[39mget_experiment(experiment_id)\n",
      "\u001b[0;32m     <a href='vscode-notebook-cell:/c%3A/Archivos%20Globant/Globant/Challenge/Challenge%20-%20NLP%20reviews/Pycaret%20Tutorial.ipynb#Z1061sZmlsZQ%3D%3D?line=35'>36</a>\u001b[0m \u001b[39mdef\u001b[39;00m \u001b[39meval_metrics\u001b[39m(actual, pred):\n",
      "\n",
      "File \u001b[1;32mc:\\Users\\jorgeantonio.lopez\\Anaconda3\\envs\\Pycaret_Challenge_Reviews\\lib\\site-packages\\mlflow\\tracking\\fluent.py:1224\u001b[0m, in \u001b[0;36mcreate_experiment\u001b[1;34m(name, artifact_location, tags)\u001b[0m\n",
      "\u001b[0;32m   1179\u001b[0m \u001b[39mdef\u001b[39;00m \u001b[39mcreate_experiment\u001b[39m(\n",
      "\u001b[0;32m   1180\u001b[0m     name: \u001b[39mstr\u001b[39m,\n",
      "\u001b[0;32m   1181\u001b[0m     artifact_location: Optional[\u001b[39mstr\u001b[39m] \u001b[39m=\u001b[39m \u001b[39mNone\u001b[39;00m,\n",
      "\u001b[0;32m   1182\u001b[0m     tags: Optional[Dict[\u001b[39mstr\u001b[39m, Any]] \u001b[39m=\u001b[39m \u001b[39mNone\u001b[39;00m,\n",
      "\u001b[0;32m   1183\u001b[0m ) \u001b[39m-\u001b[39m\u001b[39m>\u001b[39m \u001b[39mstr\u001b[39m:\n",
      "\u001b[0;32m   1184\u001b[0m     \u001b[39m\"\"\"\u001b[39;00m\n",
      "\u001b[0;32m   1185\u001b[0m \u001b[39m    Create an experiment.\u001b[39;00m\n",
      "\u001b[0;32m   1186\u001b[0m \n",
      "\u001b[1;32m   (...)\u001b[0m\n",
      "\u001b[0;32m   1222\u001b[0m \u001b[39m        Creation timestamp: 1662004217511\u001b[39;00m\n",
      "\u001b[0;32m   1223\u001b[0m \u001b[39m    \"\"\"\u001b[39;00m\n",
      "\u001b[1;32m-> 1224\u001b[0m     \u001b[39mreturn\u001b[39;00m MlflowClient()\u001b[39m.\u001b[39;49mcreate_experiment(name, artifact_location, tags)\n",
      "\n",
      "File \u001b[1;32mc:\\Users\\jorgeantonio.lopez\\Anaconda3\\envs\\Pycaret_Challenge_Reviews\\lib\\site-packages\\mlflow\\tracking\\client.py:617\u001b[0m, in \u001b[0;36mMlflowClient.create_experiment\u001b[1;34m(self, name, artifact_location, tags)\u001b[0m\n",
      "\u001b[0;32m    569\u001b[0m \u001b[39mdef\u001b[39;00m \u001b[39mcreate_experiment\u001b[39m(\n",
      "\u001b[0;32m    570\u001b[0m     \u001b[39mself\u001b[39m,\n",
      "\u001b[0;32m    571\u001b[0m     name: \u001b[39mstr\u001b[39m,\n",
      "\u001b[0;32m    572\u001b[0m     artifact_location: Optional[\u001b[39mstr\u001b[39m] \u001b[39m=\u001b[39m \u001b[39mNone\u001b[39;00m,\n",
      "\u001b[0;32m    573\u001b[0m     tags: Optional[Dict[\u001b[39mstr\u001b[39m, Any]] \u001b[39m=\u001b[39m \u001b[39mNone\u001b[39;00m,\n",
      "\u001b[0;32m    574\u001b[0m ) \u001b[39m-\u001b[39m\u001b[39m>\u001b[39m \u001b[39mstr\u001b[39m:\n",
      "\u001b[0;32m    575\u001b[0m     \u001b[39m\"\"\"Create an experiment.\u001b[39;00m\n",
      "\u001b[0;32m    576\u001b[0m \n",
      "\u001b[0;32m    577\u001b[0m \u001b[39m    :param name: The experiment name. Must be unique.\u001b[39;00m\n",
      "\u001b[1;32m   (...)\u001b[0m\n",
      "\u001b[0;32m    615\u001b[0m \u001b[39m        Lifecycle_stage: active\u001b[39;00m\n",
      "\u001b[0;32m    616\u001b[0m \u001b[39m    \"\"\"\u001b[39;00m\n",
      "\u001b[1;32m--> 617\u001b[0m     \u001b[39mreturn\u001b[39;00m \u001b[39mself\u001b[39;49m\u001b[39m.\u001b[39;49m_tracking_client\u001b[39m.\u001b[39;49mcreate_experiment(name, artifact_location, tags)\n",
      "\n",
      "File \u001b[1;32mc:\\Users\\jorgeantonio.lopez\\Anaconda3\\envs\\Pycaret_Challenge_Reviews\\lib\\site-packages\\mlflow\\tracking\\_tracking_service\\client.py:240\u001b[0m, in \u001b[0;36mTrackingServiceClient.create_experiment\u001b[1;34m(self, name, artifact_location, tags)\u001b[0m\n",
      "\u001b[0;32m    229\u001b[0m \u001b[39m\"\"\"Create an experiment.\u001b[39;00m\n",
      "\u001b[0;32m    230\u001b[0m \n",
      "\u001b[0;32m    231\u001b[0m \u001b[39m:param name: The experiment name. Must be unique.\u001b[39;00m\n",
      "\u001b[1;32m   (...)\u001b[0m\n",
      "\u001b[0;32m    236\u001b[0m \u001b[39m:return: Integer ID of the created experiment.\u001b[39;00m\n",
      "\u001b[0;32m    237\u001b[0m \u001b[39m\"\"\"\u001b[39;00m\n",
      "\u001b[0;32m    238\u001b[0m _validate_experiment_artifact_location(artifact_location)\n",
      "\u001b[1;32m--> 240\u001b[0m \u001b[39mreturn\u001b[39;00m \u001b[39mself\u001b[39;49m\u001b[39m.\u001b[39;49mstore\u001b[39m.\u001b[39;49mcreate_experiment(\n",
      "\u001b[0;32m    241\u001b[0m     name\u001b[39m=\u001b[39;49mname,\n",
      "\u001b[0;32m    242\u001b[0m     artifact_location\u001b[39m=\u001b[39;49martifact_location,\n",
      "\u001b[0;32m    243\u001b[0m     tags\u001b[39m=\u001b[39;49m[ExperimentTag(key, value) \u001b[39mfor\u001b[39;49;00m (key, value) \u001b[39min\u001b[39;49;00m tags\u001b[39m.\u001b[39;49mitems()] \u001b[39mif\u001b[39;49;00m tags \u001b[39melse\u001b[39;49;00m [],\n",
      "\u001b[0;32m    244\u001b[0m )\n",
      "\n",
      "File \u001b[1;32mc:\\Users\\jorgeantonio.lopez\\Anaconda3\\envs\\Pycaret_Challenge_Reviews\\lib\\site-packages\\mlflow\\store\\tracking\\file_store.py:380\u001b[0m, in \u001b[0;36mFileStore.create_experiment\u001b[1;34m(self, name, artifact_location, tags)\u001b[0m\n",
      "\u001b[0;32m    378\u001b[0m \u001b[39mself\u001b[39m\u001b[39m.\u001b[39m_check_root_dir()\n",
      "\u001b[0;32m    379\u001b[0m _validate_experiment_name(name)\n",
      "\u001b[1;32m--> 380\u001b[0m \u001b[39mself\u001b[39;49m\u001b[39m.\u001b[39;49m_validate_experiment_does_not_exist(name)\n",
      "\u001b[0;32m    381\u001b[0m \u001b[39m# Get all existing experiments and find the one with largest numerical ID.\u001b[39;00m\n",
      "\u001b[0;32m    382\u001b[0m \u001b[39m# len(list_all(..)) would not work when experiments are deleted.\u001b[39;00m\n",
      "\u001b[0;32m    383\u001b[0m experiments_ids \u001b[39m=\u001b[39m [\n",
      "\u001b[0;32m    384\u001b[0m     \u001b[39mint\u001b[39m(e\u001b[39m.\u001b[39mexperiment_id)\n",
      "\u001b[0;32m    385\u001b[0m     \u001b[39mfor\u001b[39;00m e \u001b[39min\u001b[39;00m \u001b[39mself\u001b[39m\u001b[39m.\u001b[39mlist_experiments(ViewType\u001b[39m.\u001b[39mALL)\n",
      "\u001b[0;32m    386\u001b[0m     \u001b[39mif\u001b[39;00m e\u001b[39m.\u001b[39mexperiment_id\u001b[39m.\u001b[39misdigit()\n",
      "\u001b[0;32m    387\u001b[0m ]\n",
      "\n",
      "File \u001b[1;32mc:\\Users\\jorgeantonio.lopez\\Anaconda3\\envs\\Pycaret_Challenge_Reviews\\lib\\site-packages\\mlflow\\store\\tracking\\file_store.py:372\u001b[0m, in \u001b[0;36mFileStore._validate_experiment_does_not_exist\u001b[1;34m(self, name)\u001b[0m\n",
      "\u001b[0;32m    364\u001b[0m     \u001b[39mraise\u001b[39;00m MlflowException(\n",
      "\u001b[0;32m    365\u001b[0m         \u001b[39m\"\u001b[39m\u001b[39mExperiment \u001b[39m\u001b[39m'\u001b[39m\u001b[39m%s\u001b[39;00m\u001b[39m'\u001b[39m\u001b[39m already exists in deleted state. \u001b[39m\u001b[39m\"\u001b[39m\n",
      "\u001b[0;32m    366\u001b[0m         \u001b[39m\"\u001b[39m\u001b[39mYou can restore the experiment, or permanently delete the experiment \u001b[39m\u001b[39m\"\u001b[39m\n",
      "\u001b[1;32m   (...)\u001b[0m\n",
      "\u001b[0;32m    369\u001b[0m         databricks_pb2\u001b[39m.\u001b[39mRESOURCE_ALREADY_EXISTS,\n",
      "\u001b[0;32m    370\u001b[0m     )\n",
      "\u001b[0;32m    371\u001b[0m \u001b[39melse\u001b[39;00m:\n",
      "\u001b[1;32m--> 372\u001b[0m     \u001b[39mraise\u001b[39;00m MlflowException(\n",
      "\u001b[0;32m    373\u001b[0m         \u001b[39m\"\u001b[39m\u001b[39mExperiment \u001b[39m\u001b[39m'\u001b[39m\u001b[39m%s\u001b[39;00m\u001b[39m'\u001b[39m\u001b[39m already exists.\u001b[39m\u001b[39m\"\u001b[39m \u001b[39m%\u001b[39m experiment\u001b[39m.\u001b[39mname,\n",
      "\u001b[0;32m    374\u001b[0m         databricks_pb2\u001b[39m.\u001b[39mRESOURCE_ALREADY_EXISTS,\n",
      "\u001b[0;32m    375\u001b[0m     )\n",
      "\n",
      "\u001b[1;31mMlflowException\u001b[0m: Experiment 'Keras Experiments' already exists."
     ]
    }
   ],
   "source": [
    "# The data set used in this example is from http://archive.ics.uci.edu/ml/datasets/Wine+Quality\n",
    "# P. Cortez, A. Cerdeira, F. Almeida, T. Matos and J. Reis.\n",
    "# Modeling wine preferences by data mining from physicochemical properties. In Decision Support Systems, Elsevier, 47(4):547-553, 2009.\n",
    "\n",
    "import os\n",
    "import warnings\n",
    "import sys\n",
    "\n",
    "import pandas as pd\n",
    "import numpy as np\n",
    "from sklearn.metrics import mean_squared_error, mean_absolute_error, r2_score\n",
    "from sklearn.model_selection import train_test_split\n",
    "from sklearn.linear_model import ElasticNet\n",
    "from urllib.parse import urlparse\n",
    "import mlflow\n",
    "import mlflow.sklearn\n",
    "\n",
    "import logging\n",
    "\n",
    "logging.basicConfig(level=logging.WARN)\n",
    "logger = logging.getLogger(__name__)\n",
    "\n",
    "\n",
    "import mlflow\n",
    "from pathlib import Path\n",
    "\n",
    "# Create an experiment name, which must be unique and case sensitive\n",
    "experiment_id = mlflow.create_experiment(\n",
    "    \"Keras Experiments\",\n",
    "#    artifact_location=Path.cwd().joinpath(\"mlruns\").as_uri(),\n",
    "    tags={\"version\": \"v1\", \"priority\": \"P1\"},\n",
    ")\n",
    "\n",
    "experiment = mlflow.get_experiment(experiment_id)\n",
    "\n",
    "def eval_metrics(actual, pred):\n",
    "    rmse = np.sqrt(mean_squared_error(actual, pred))\n",
    "    mae = mean_absolute_error(actual, pred)\n",
    "    r2 = r2_score(actual, pred)\n",
    "    return rmse, mae, r2\n",
    "\n",
    "\n",
    "if __name__ == \"__main__\":\n",
    "    warnings.filterwarnings(\"ignore\")\n",
    "    np.random.seed(40)\n",
    "\n",
    "    # Read the wine-quality csv file from the URL\n",
    "    csv_url = (\n",
    "        \"http://archive.ics.uci.edu/ml/machine-learning-databases/wine-quality/winequality-red.csv\"\n",
    "    )\n",
    "    try:\n",
    "        data = pd.read_csv(csv_url, sep=\";\")\n",
    "    except Exception as e:\n",
    "        logger.exception(\n",
    "            \"Unable to download training & test CSV, check your internet connection. Error: %s\", e\n",
    "        )\n",
    "\n",
    "    # Split the data into training and test sets. (0.75, 0.25) split.\n",
    "    train, test = train_test_split(data)\n",
    "\n",
    "    # The predicted column is \"quality\" which is a scalar from [3, 9]\n",
    "    train_x = train.drop([\"quality\"], axis=1)\n",
    "    test_x = test.drop([\"quality\"], axis=1)\n",
    "    train_y = train[[\"quality\"]]\n",
    "    test_y = test[[\"quality\"]]\n",
    "\n",
    "    #alpha = float(sys.argv[1]) if len(sys.argv) > 1 else 0.5\n",
    "    #l1_ratio = float(sys.argv[2]) if len(sys.argv) > 2 else 0.5\n",
    "    alpha= 0.5\n",
    "    l1_ratio=0.5\n",
    "\n",
    "    with mlflow.start_run(experiment_id=experiment_id):\n",
    "        lr = ElasticNet(alpha=alpha, l1_ratio=l1_ratio, random_state=42)\n",
    "        lr.fit(train_x, train_y)\n",
    "\n",
    "        predicted_qualities = lr.predict(test_x)\n",
    "\n",
    "        (rmse, mae, r2) = eval_metrics(test_y, predicted_qualities)\n",
    "\n",
    "        print(\"Elasticnet model (alpha=%f, l1_ratio=%f):\" % (alpha, l1_ratio))\n",
    "        print(\"  RMSE: %s\" % rmse)\n",
    "        print(\"  MAE: %s\" % mae)\n",
    "        print(\"  R2: %s\" % r2)\n",
    "\n",
    "        mlflow.log_param(\"alpha\", alpha)\n",
    "        mlflow.log_param(\"l1_ratio\", l1_ratio)\n",
    "        mlflow.log_metric(\"rmse\", rmse)\n",
    "        mlflow.log_metric(\"r2\", r2)\n",
    "        mlflow.log_metric(\"mae\", mae)\n",
    "\n",
    "        tracking_url_type_store = urlparse(mlflow.get_tracking_uri()).scheme\n",
    "\n",
    "        # Model registry does not work with file store\n",
    "        if tracking_url_type_store != \"file\":\n",
    "\n",
    "            # Register the model\n",
    "            # There are other ways to use the Model Registry, which depends on the use case,\n",
    "            # please refer to the doc for more information:\n",
    "            # https://mlflow.org/docs/latest/model-registry.html#api-workflow\n",
    "            mlflow.sklearn.log_model(lr, \"model\", registered_model_name=\"ElasticnetWineModel\", artifact_path='keras-model_1')\n",
    "        else:\n",
    "            mlflow.sklearn.log_model(lr, \"model\")\n"
   ]
  },
  {
   "cell_type": "code",
   "execution_count": null,
   "id": "743de65d",
   "metadata": {},
   "outputs": [
    {
     "name": "stdout",
     "output_type": "stream",
     "text": [
      "Elasticnet model (alpha=0.500000, l1_ratio=0.500000):\n",
      "  RMSE: 0.7931640229276851\n",
      "  MAE: 0.6271946374319587\n",
      "  R2: 0.10862644997792614\n"
     ]
    }
   ],
   "source": [
    "# The data set used in this example is from http://archive.ics.uci.edu/ml/datasets/Wine+Quality\n",
    "# P. Cortez, A. Cerdeira, F. Almeida, T. Matos and J. Reis.\n",
    "# Modeling wine preferences by data mining from physicochemical properties. In Decision Support Systems, Elsevier, 47(4):547-553, 2009.\n",
    "\n",
    "import os\n",
    "import warnings\n",
    "import sys\n",
    "\n",
    "import pandas as pd\n",
    "import numpy as np\n",
    "from sklearn.metrics import mean_squared_error, mean_absolute_error, r2_score\n",
    "from sklearn.model_selection import train_test_split\n",
    "from sklearn.linear_model import ElasticNet\n",
    "from urllib.parse import urlparse\n",
    "import mlflow\n",
    "import mlflow.sklearn\n",
    "\n",
    "import logging\n",
    "\n",
    "logging.basicConfig(level=logging.WARN)\n",
    "logger = logging.getLogger(__name__)\n",
    "\n",
    "\n",
    "import mlflow\n",
    "from pathlib import Path\n",
    "\n",
    "# Create an experiment name, which must be unique and case sensitive\n",
    "#experiment_id = mlflow.create_experiment(\n",
    "#    \"Keras Experiments\",\n",
    "#    artifact_location=Path.cwd().joinpath(\"mlruns\").as_uri(),\n",
    "#    tags={\"version\": \"v1\", \"priority\": \"P1\"},\n",
    "#)\n",
    "\n",
    "#experiment = mlflow.get_experiment(experiment_id)\n",
    "\n",
    "def eval_metrics(actual, pred):\n",
    "    rmse = np.sqrt(mean_squared_error(actual, pred))\n",
    "    mae = mean_absolute_error(actual, pred)\n",
    "    r2 = r2_score(actual, pred)\n",
    "    return rmse, mae, r2\n",
    "\n",
    "\n",
    "if __name__ == \"__main__\":\n",
    "    warnings.filterwarnings(\"ignore\")\n",
    "    np.random.seed(40)\n",
    "\n",
    "    # Read the wine-quality csv file from the URL\n",
    "    csv_url = (\n",
    "        \"http://archive.ics.uci.edu/ml/machine-learning-databases/wine-quality/winequality-red.csv\"\n",
    "    )\n",
    "    try:\n",
    "        data = pd.read_csv(csv_url, sep=\";\")\n",
    "    except Exception as e:\n",
    "        logger.exception(\n",
    "            \"Unable to download training & test CSV, check your internet connection. Error: %s\", e\n",
    "        )\n",
    "\n",
    "    # Split the data into training and test sets. (0.75, 0.25) split.\n",
    "    train, test = train_test_split(data)\n",
    "\n",
    "    # The predicted column is \"quality\" which is a scalar from [3, 9]\n",
    "    train_x = train.drop([\"quality\"], axis=1)\n",
    "    test_x = test.drop([\"quality\"], axis=1)\n",
    "    train_y = train[[\"quality\"]]\n",
    "    test_y = test[[\"quality\"]]\n",
    "\n",
    "    #alpha = float(sys.argv[1]) if len(sys.argv) > 1 else 0.5\n",
    "    #l1_ratio = float(sys.argv[2]) if len(sys.argv) > 2 else 0.5\n",
    "    alpha= 0.5\n",
    "    l1_ratio=0.5\n",
    "\n",
    "    with mlflow.start_run(experiment_id=experiment_id):\n",
    "        lr = ElasticNet(alpha=alpha, l1_ratio=l1_ratio, random_state=42)\n",
    "        lr.fit(train_x, train_y)\n",
    "\n",
    "        predicted_qualities = lr.predict(test_x)\n",
    "\n",
    "        (rmse, mae, r2) = eval_metrics(test_y, predicted_qualities)\n",
    "\n",
    "        print(\"Elasticnet model (alpha=%f, l1_ratio=%f):\" % (alpha, l1_ratio))\n",
    "        print(\"  RMSE: %s\" % rmse)\n",
    "        print(\"  MAE: %s\" % mae)\n",
    "        print(\"  R2: %s\" % r2)\n",
    "\n",
    "        mlflow.log_param(\"alpha\", alpha)\n",
    "        mlflow.log_param(\"l1_ratio\", l1_ratio)\n",
    "        mlflow.log_metric(\"rmse\", rmse)\n",
    "        mlflow.log_metric(\"r2\", r2)\n",
    "        mlflow.log_metric(\"mae\", mae)\n",
    "\n",
    "        tracking_url_type_store = urlparse(mlflow.get_tracking_uri()).scheme\n",
    "\n",
    "        # Model registry does not work with file store\n",
    "        if tracking_url_type_store != \"file\":\n",
    "\n",
    "            # Register the model\n",
    "            # There are other ways to use the Model Registry, which depends on the use case,\n",
    "            # please refer to the doc for more information:\n",
    "            # https://mlflow.org/docs/latest/model-registry.html#api-workflow\n",
    "            mlflow.sklearn.log_model(lr, \"model\", registered_model_name=\"ElasticnetWineModel\", artifact_path='keras-model_1')\n",
    "        else:\n",
    "            mlflow.sklearn.log_model(lr, \"model\")\n"
   ]
  },
  {
   "cell_type": "code",
   "execution_count": null,
   "id": "ccfbe4c5",
   "metadata": {},
   "outputs": [
    {
     "name": "stdout",
     "output_type": "stream",
     "text": [
      "Name: Social NLP Experiments\n",
      "Experiment_id: 16\n",
      "Artifact Location: file:///c:/Archivos%20Globant/Globant/Challenge/Challenge%20-%20NLP%20reviews/mlruns\n",
      "Tags: {'priority': 'P1', 'version': 'v1'}\n",
      "Lifecycle_stage: active\n",
      "Creation timestamp: 1665532399736\n"
     ]
    }
   ],
   "source": [
    "import mlflow\n",
    "from pathlib import Path\n",
    "\n",
    "# Create an experiment name, which must be unique and case sensitive\n",
    "experiment_id = mlflow.create_experiment(\n",
    "    \"Social NLP Experiments\",\n",
    "    artifact_location=Path.cwd().joinpath(\"mlruns\").as_uri(),\n",
    "    tags={\"version\": \"v1\", \"priority\": \"P1\"},\n",
    ")\n",
    "experiment = mlflow.get_experiment(experiment_id)\n",
    "print(\"Name: {}\".format(experiment.name))\n",
    "print(\"Experiment_id: {}\".format(experiment.experiment_id))\n",
    "print(\"Artifact Location: {}\".format(experiment.artifact_location))\n",
    "print(\"Tags: {}\".format(experiment.tags))\n",
    "print(\"Lifecycle_stage: {}\".format(experiment.lifecycle_stage))\n",
    "print(\"Creation timestamp: {}\".format(experiment.creation_time))"
   ]
  },
  {
   "cell_type": "code",
   "execution_count": null,
   "id": "62d7c6ef",
   "metadata": {},
   "outputs": [],
   "source": [
    "import mlflow\n",
    "from pathlib import Path"
   ]
  },
  {
   "cell_type": "code",
   "execution_count": null,
   "id": "c2659544",
   "metadata": {},
   "outputs": [],
   "source": [
    "import numpy as np\n",
    "#import tensorflow\n",
    "from tensorflow import keras\n",
    "from tensorflow.keras.datasets import reuters\n",
    "from tensorflow.keras.optimizers import *\n",
    "from tensorflow.keras.models import Sequential\n",
    "from tensorflow.keras.layers import Dense, Dropout, Activation\n",
    "from tensorflow.keras.preprocessing.text import Tokenizer\n",
    "import mlflow.tensorflow\n"
   ]
  },
  {
   "cell_type": "code",
   "execution_count": null,
   "id": "2c8f21d2",
   "metadata": {},
   "outputs": [],
   "source": [
    "import os\n",
    "import warnings\n",
    "import sys\n",
    "import pandas as pd\n",
    "import numpy as np\n",
    "from sklearn.metrics import mean_squared_error, mean_absolute_error, r2_score\n",
    "from sklearn.model_selection import train_test_split\n",
    "from sklearn.linear_model import ElasticNet\n",
    "from urllib.parse import urlparse\n",
    "import mlflow\n",
    "import mlflow.sklearn"
   ]
  },
  {
   "cell_type": "code",
   "execution_count": null,
   "id": "55cc99ec",
   "metadata": {},
   "outputs": [],
   "source": [
    "#mlflow.tensorflow.autolog(registered_model_name='', log_input_examples=True)\n",
    "#mlflow.tensorflow.autolog(every_n_iter=1, log_models=True, disable=False, exclusive=False, disable_for_unsupported_versions=False, \n",
    "#                          silent=False, registered_model_name=None, log_input_examples=False, log_model_signatures=False)\n"
   ]
  },
  {
   "cell_type": "markdown",
   "id": "abde78ad",
   "metadata": {},
   "source": [
    "### Serve model using MLFlow from registry\n",
    "* https://stackoverflow.com/questions/70085888/serve-model-using-mlflow-from-registry"
   ]
  },
  {
   "cell_type": "code",
   "execution_count": null,
   "id": "449207bf",
   "metadata": {},
   "outputs": [
    {
     "name": "stderr",
     "output_type": "stream",
     "text": [
      "'export' is not recognized as an internal or external command,\n",
      "operable program or batch file.\n"
     ]
    }
   ],
   "source": [
    "# Ejecutar en Terminal\n",
    "# mlflow server --backend-store-uri sqlite:///mlflow.db --default-artifact-root ./mlflow-artifact\n",
    "# mlflow server --backend-store-uri sqlite:///mlflow.db --default-artifact-root ./artifacts\n",
    "# mlflow server --backend-store-uri sqlite:///mlflow.db --default-artifact-root ./artifacts --host 0.0.0.0\n",
    "\n",
    "# Ejecutar en notebook\n",
    "# mlflow.set_tracking_uri('http://localhost:5000')"
   ]
  },
  {
   "cell_type": "code",
   "execution_count": null,
   "id": "03283dac",
   "metadata": {},
   "outputs": [],
   "source": [
    "mlflow server --backend-store-uri sqlite:////root/example.db \\\n",
    "    --default-artifact-root hdfs://localhost:9000/MlflowOutput \\\n",
    "    --host 0.0.0.0 ( or your server ip )\n",
    "     -p 5000"
   ]
  },
  {
   "cell_type": "code",
   "execution_count": null,
   "id": "0106eb1a",
   "metadata": {},
   "outputs": [
    {
     "ename": "NameError",
     "evalue": "name 'mlflow' is not defined",
     "output_type": "error",
     "traceback": [
      "\u001b[1;31m---------------------------------------------------------------------------\u001b[0m\n",
      "\u001b[1;31mNameError\u001b[0m                                 Traceback (most recent call last)\n",
      "\u001b[1;32mc:\\Archivos Globant\\Globant\\Challenge\\Challenge - NLP reviews\\Pycaret Tutorial.ipynb Cell 239\u001b[0m in \u001b[0;36m<cell line: 1>\u001b[1;34m()\u001b[0m\n",
      "\u001b[1;32m----> <a href='vscode-notebook-cell:/c%3A/Archivos%20Globant/Globant/Challenge/Challenge%20-%20NLP%20reviews/Pycaret%20Tutorial.ipynb#Y460sZmlsZQ%3D%3D?line=0'>1</a>\u001b[0m mlflow\u001b[39m.\u001b[39mset_tracking_uri(\u001b[39m'\u001b[39m\u001b[39mhttp://localhost:5000\u001b[39m\u001b[39m'\u001b[39m)\n",
      "\n",
      "\u001b[1;31mNameError\u001b[0m: name 'mlflow' is not defined"
     ]
    }
   ],
   "source": [
    "mlflow.set_tracking_uri('http://localhost:5000')"
   ]
  },
  {
   "cell_type": "code",
   "execution_count": null,
   "id": "6ba0aad5",
   "metadata": {},
   "outputs": [],
   "source": [
    "# Create an experiment name, which must be unique and case sensitive\n",
    "experiment_id_tf = mlflow.create_experiment(\n",
    "    \"Tensorflow Experiments\",\n",
    "#    artifact_location=Path.cwd().joinpath(\"mlruns\").as_uri(),\n",
    "    tags={\"version\": \"v1\", \"priority\": \"P1\"},\n",
    ")\n",
    "\n",
    "#experiment = mlflow.get_experiment(experiment_id)"
   ]
  },
  {
   "cell_type": "code",
   "execution_count": null,
   "id": "5eb7341e",
   "metadata": {},
   "outputs": [
    {
     "data": {
      "text/plain": [
       "<Experiment: artifact_location='./mlflow-artifact/1', creation_time=1665691658300, experiment_id='1', last_update_time=1665691658300, lifecycle_stage='active', name='Tensorflow Experiments', tags={'priority': 'P1', 'version': 'v1'}>"
      ]
     },
     "metadata": {},
     "output_type": "display_data"
    }
   ],
   "source": [
    "mlflow.get_experiment(1)"
   ]
  },
  {
   "cell_type": "code",
   "execution_count": null,
   "id": "90c2f541",
   "metadata": {},
   "outputs": [
    {
     "data": {
      "text/plain": [
       "<Experiment: artifact_location='./mlflow-artifact/1', creation_time=1665691658300, experiment_id='1', last_update_time=1665691658300, lifecycle_stage='active', name='Tensorflow Experiments', tags={'priority': 'P1', 'version': 'v1'}>"
      ]
     },
     "metadata": {},
     "output_type": "display_data"
    }
   ],
   "source": [
    "experiment_1 = mlflow.get_experiment('1')\n",
    "experiment_1"
   ]
  },
  {
   "cell_type": "code",
   "execution_count": null,
   "id": "46a2fa8d",
   "metadata": {},
   "outputs": [
    {
     "data": {
      "text/plain": [
       "'1'"
      ]
     },
     "metadata": {},
     "output_type": "display_data"
    }
   ],
   "source": [
    "experiment_id_tf"
   ]
  },
  {
   "cell_type": "code",
   "execution_count": null,
   "id": "c4d85b8e",
   "metadata": {},
   "outputs": [],
   "source": [
    "# sqlite3 mlflow.db\n",
    "# SELECT name FROM sqlite_master WHERE type = \"table\"; "
   ]
  },
  {
   "cell_type": "code",
   "execution_count": null,
   "id": "22692c7e",
   "metadata": {},
   "outputs": [],
   "source": [
    "# Terminal\n",
    "# mlflow models serve --model-uri models:/Primer_Modelo/Production -p 1234 --no-conda"
   ]
  },
  {
   "cell_type": "markdown",
   "id": "ca23caaf",
   "metadata": {},
   "source": [
    "# ir a http://localhost:5000"
   ]
  },
  {
   "cell_type": "markdown",
   "id": "80495d4e",
   "metadata": {},
   "source": [
    "### MLflow Tracking example using Python\n",
    "### Given below is how you can track metrics using MLflow and Python:\n",
    "* https://medium.com/@haythemtellili/end-to-end-ml-pipelines-with-mlflow-projects-63a11baa2dd1"
   ]
  },
  {
   "cell_type": "code",
   "execution_count": null,
   "id": "390b343d",
   "metadata": {},
   "outputs": [
    {
     "ename": "NameError",
     "evalue": "name 'GradientBoostingRegressor' is not defined",
     "output_type": "error",
     "traceback": [
      "\u001b[1;31m---------------------------------------------------------------------------\u001b[0m\n",
      "\u001b[1;31mNameError\u001b[0m                                 Traceback (most recent call last)\n",
      "\u001b[1;32mc:\\Archivos Globant\\Globant\\Challenge\\Challenge - NLP reviews\\Pycaret Tutorial.ipynb Cell 259\u001b[0m in \u001b[0;36m<cell line: 1>\u001b[1;34m()\u001b[0m\n",
      "\u001b[0;32m      <a href='vscode-notebook-cell:/c%3A/Archivos%20Globant/Globant/Challenge/Challenge%20-%20NLP%20reviews/Pycaret%20Tutorial.ipynb#Y542sZmlsZQ%3D%3D?line=2'>3</a>\u001b[0m mlflow\u001b[39m.\u001b[39mset_tag(\u001b[39m\"\u001b[39m\u001b[39mmlflow.runName\u001b[39m\u001b[39m\"\u001b[39m, \u001b[39m\"\u001b[39m\u001b[39mtrain\u001b[39m\u001b[39m\"\u001b[39m)\n",
      "\u001b[0;32m      <a href='vscode-notebook-cell:/c%3A/Archivos%20Globant/Globant/Challenge/Challenge%20-%20NLP%20reviews/Pycaret%20Tutorial.ipynb#Y542sZmlsZQ%3D%3D?line=4'>5</a>\u001b[0m \u001b[39m# create model instance: GBRT (Gradient Boosted Regression Tree)\u001b[39;00m\n",
      "\u001b[1;32m----> <a href='vscode-notebook-cell:/c%3A/Archivos%20Globant/Globant/Challenge/Challenge%20-%20NLP%20reviews/Pycaret%20Tutorial.ipynb#Y542sZmlsZQ%3D%3D?line=5'>6</a>\u001b[0m model \u001b[39m=\u001b[39m GradientBoostingRegressor(\u001b[39m*\u001b[39m\u001b[39m*\u001b[39mrun_parameters)\n",
      "\u001b[0;32m      <a href='vscode-notebook-cell:/c%3A/Archivos%20Globant/Globant/Challenge/Challenge%20-%20NLP%20reviews/Pycaret%20Tutorial.ipynb#Y542sZmlsZQ%3D%3D?line=7'>8</a>\u001b[0m \u001b[39m# Model Training\u001b[39;00m\n",
      "\u001b[0;32m      <a href='vscode-notebook-cell:/c%3A/Archivos%20Globant/Globant/Challenge/Challenge%20-%20NLP%20reviews/Pycaret%20Tutorial.ipynb#Y542sZmlsZQ%3D%3D?line=8'>9</a>\u001b[0m model\u001b[39m.\u001b[39mfit(X_train, y_train)\n",
      "\n",
      "\u001b[1;31mNameError\u001b[0m: name 'GradientBoostingRegressor' is not defined"
     ]
    }
   ],
   "source": [
    "with mlflow.start_run(run_name=\"train\") as run:\n",
    "\n",
    "        mlflow.set_tag(\"mlflow.runName\", \"train\")\n",
    "\n",
    "        # create model instance: GBRT (Gradient Boosted Regression Tree)\n",
    "        model = GradientBoostingRegressor(**run_parameters)\n",
    "\n",
    "        # Model Training\n",
    "        model.fit(X_train, y_train)\n",
    "\n",
    "        # get evaluations scores\n",
    "        score = rmse_score(y_test, model.predict(X_test))\n",
    "        score_cv = rmse_cv_score(model, X_train, y_train)\n",
    "\n",
    "        # generate charts\n",
    "        # model_feature_importance(model, X_train, model_artifacts_dir)\n",
    "\n",
    "        # log input features\n",
    "        mlflow.set_tag(\"features\", str(X_train.columns.values.tolist()))\n",
    "\n",
    "        # Log tracked parameters\n",
    "        mlflow.log_params(run_parameters)\n",
    "\n",
    "        mlflow.log_metrics(\n",
    "            {\n",
    "                \"RMSE_CV\": score_cv.mean(),\n",
    "                \"RMSE\": score,\n",
    "            }\n",
    "        )\n",
    "\n",
    "        # log training loss\n",
    "        for s in model.train_score_:\n",
    "            mlflow.log_metric(\"Train Loss\", s)\n",
    "\n",
    "        # get model signature\n",
    "        signature = infer_signature(\n",
    "            model_input=X_train,\n",
    "            model_output=model.predict(X_train)\n",
    "        )\n",
    "\n",
    "        # Save model to artifacts\n",
    "        mlflow.sklearn.log_model(model, \"model\", signature=signature)"
   ]
  },
  {
   "cell_type": "markdown",
   "id": "b556be6a",
   "metadata": {},
   "source": [
    "# Main del codigo:\n",
    "https://medium.com/@haythemtellili/end-to-end-ml-pipelines-with-mlflow-projects-63a11baa2dd1"
   ]
  },
  {
   "cell_type": "code",
   "execution_count": null,
   "id": "14c218f8",
   "metadata": {},
   "outputs": [],
   "source": [
    "import logging\n",
    "import traceback\n",
    "import warnings\n",
    "\n",
    "import mlflow\n",
    "import click\n",
    "\n",
    "def _run(entrypoint, parameters={}, source_version=None, use_cache=True):\n",
    "    \"\"\"Launching new run for an entrypoint\"\"\"\n",
    "\n",
    "    print(\n",
    "        \"Launching new run for entrypoint=%s and parameters=%s\"\n",
    "        % (entrypoint, parameters)\n",
    "    )\n",
    "    submitted_run = mlflow.run(\".\", entrypoint, parameters=parameters)\n",
    "    return submitted_run\n",
    "\n",
    "\n",
    "@click.command()\n",
    "def workflow():\n",
    "    \"\"\"run the workflow\"\"\"\n",
    "    with mlflow.start_run(run_name=\"data-pipeline\"):\n",
    "        mlflow.set_tag(\"mlflow.runName\", \"data-pipeline\")\n",
    "        _run(\"load_raw_data\")\n",
    "        _run(\"train\", {\"learning_rate\": 0.1, \"max_depth\": 5})\n",
    "\n",
    "\n",
    "if _name_ == \"_main_\":\n",
    "    warnings.filterwarnings(\"ignore\")\n",
    "    logging.basicConfig(\n",
    "        level=logging.INFO,\n",
    "        filename=\"logs/train_model.log\",\n",
    "        filemode=\"a\",\n",
    "        format=\"%(name)s - %(levelname)s - %(asctime)s - %(message)s\",\n",
    "    )\n",
    "    logger = logging.getLogger(_name_)\n",
    "\n",
    "    try:\n",
    "        workflow()\n",
    "    except Exception as e:\n",
    "        print(\"Exception occured. Check logs.\")\n",
    "        logger.error(f\"Failed to run workflow due to error:\\n{e}\")\n",
    "        logger.error(traceback.format_exc())"
   ]
  },
  {
   "cell_type": "markdown",
   "id": "4fa12421",
   "metadata": {},
   "source": [
    "### Dockerized MLflow model serving (REST API)\n",
    "Here’s an example of a python script used to fetch the best model trained and to run mlflow model serving in a docker container:"
   ]
  },
  {
   "cell_type": "code",
   "execution_count": null,
   "id": "5a213ed8",
   "metadata": {},
   "outputs": [
    {
     "ename": "Exception",
     "evalue": "Found no runs for experiment 'Default'",
     "output_type": "error",
     "traceback": [
      "\u001b[1;31m---------------------------------------------------------------------------\u001b[0m\n",
      "\u001b[1;31mException\u001b[0m                                 Traceback (most recent call last)\n",
      "\u001b[1;32mc:\\Archivos Globant\\Globant\\Challenge\\Challenge - NLP reviews\\Pycaret Tutorial.ipynb Cell 263\u001b[0m in \u001b[0;36m<cell line: 20>\u001b[1;34m()\u001b[0m\n",
      "\u001b[0;32m     <a href='vscode-notebook-cell:/c%3A/Archivos%20Globant/Globant/Challenge/Challenge%20-%20NLP%20reviews/Pycaret%20Tutorial.ipynb#Y545sZmlsZQ%3D%3D?line=18'>19</a>\u001b[0m best_run_df \u001b[39m=\u001b[39m mlflow\u001b[39m.\u001b[39msearch_runs(order_by\u001b[39m=\u001b[39m[\u001b[39m'\u001b[39m\u001b[39mmetrics.RMSE_CV ASC\u001b[39m\u001b[39m'\u001b[39m], max_results\u001b[39m=\u001b[39m\u001b[39m1\u001b[39m)\n",
      "\u001b[0;32m     <a href='vscode-notebook-cell:/c%3A/Archivos%20Globant/Globant/Challenge/Challenge%20-%20NLP%20reviews/Pycaret%20Tutorial.ipynb#Y545sZmlsZQ%3D%3D?line=19'>20</a>\u001b[0m \u001b[39mif\u001b[39;00m \u001b[39mlen\u001b[39m(best_run_df\u001b[39m.\u001b[39mindex) \u001b[39m==\u001b[39m \u001b[39m0\u001b[39m:\n",
      "\u001b[1;32m---> <a href='vscode-notebook-cell:/c%3A/Archivos%20Globant/Globant/Challenge/Challenge%20-%20NLP%20reviews/Pycaret%20Tutorial.ipynb#Y545sZmlsZQ%3D%3D?line=20'>21</a>\u001b[0m     \u001b[39mraise\u001b[39;00m \u001b[39mException\u001b[39;00m(\u001b[39mf\u001b[39m\u001b[39m\"\u001b[39m\u001b[39mFound no runs for experiment \u001b[39m\u001b[39m'\u001b[39m\u001b[39m{\u001b[39;00mexperiment_name\u001b[39m}\u001b[39;00m\u001b[39m'\u001b[39m\u001b[39m\"\u001b[39m)\n",
      "\u001b[0;32m     <a href='vscode-notebook-cell:/c%3A/Archivos%20Globant/Globant/Challenge/Challenge%20-%20NLP%20reviews/Pycaret%20Tutorial.ipynb#Y545sZmlsZQ%3D%3D?line=22'>23</a>\u001b[0m best_run \u001b[39m=\u001b[39m mlflow\u001b[39m.\u001b[39mget_run(best_run_df\u001b[39m.\u001b[39mat[\u001b[39m0\u001b[39m, \u001b[39m'\u001b[39m\u001b[39mrun_id\u001b[39m\u001b[39m'\u001b[39m])\n",
      "\u001b[0;32m     <a href='vscode-notebook-cell:/c%3A/Archivos%20Globant/Globant/Challenge/Challenge%20-%20NLP%20reviews/Pycaret%20Tutorial.ipynb#Y545sZmlsZQ%3D%3D?line=23'>24</a>\u001b[0m best_model_uri \u001b[39m=\u001b[39m \u001b[39mf\u001b[39m\u001b[39m\"\u001b[39m\u001b[39m{\u001b[39;00mbest_run\u001b[39m.\u001b[39minfo\u001b[39m.\u001b[39martifact_uri\u001b[39m}\u001b[39;00m\u001b[39m/model\u001b[39m\u001b[39m\"\u001b[39m\n",
      "\n",
      "\u001b[1;31mException\u001b[0m: Found no runs for experiment 'Default'"
     ]
    }
   ],
   "source": [
    "import os\n",
    "import subprocess\n",
    "import sys\n",
    "import warnings\n",
    "\n",
    "import mlflow\n",
    "\n",
    "warnings.filterwarnings('ignore')\n",
    "\n",
    "PROJECT_DIR = sys.path[0]\n",
    "os.chdir(PROJECT_DIR)\n",
    "\n",
    "experiment_name = 'Default'\n",
    "mlflow.set_experiment(experiment_name)\n",
    "\n",
    "PORT = 5001  # REST API serving port\n",
    "CONTAINER_NAME = \"mlflow_example_model_serving\"\n",
    "\n",
    "best_run_df = mlflow.search_runs(order_by=['metrics.RMSE_CV ASC'], max_results=1)\n",
    "if len(best_run_df.index) == 0:\n",
    "    raise Exception(f\"Found no runs for experiment '{experiment_name}'\")\n",
    "\n",
    "best_run = mlflow.get_run(best_run_df.at[0, 'run_id'])\n",
    "best_model_uri = f\"{best_run.info.artifact_uri}/model\"\n",
    "# best_model = mlflow.sklearn.load_model(best_model_uri)\n",
    "\n",
    "# print best run info\n",
    "print(\"Best run info:\")\n",
    "print(f\"Run id: {best_run.info.run_id}\")\n",
    "print(f\"Run parameters: {best_run.data.params}\")\n",
    "print(\"Run score: RMSE_CV = {:.4f}\".format(best_run.data.metrics['RMSE_CV']))\n",
    "print(f\"Run model URI: {best_model_uri}\")\n",
    "\n",
    "# remove current container if exists\n",
    "subprocess.run(f\"docker rm --force {CONTAINER_NAME}\", shell=True, check=False, stdout=subprocess.DEVNULL)\n",
    "\n",
    "# run mlflow model serving in a docker container\n",
    "docker_run_cmd = f\"\"\"\n",
    "docker run\n",
    "--name={CONTAINER_NAME}\n",
    "--volume={PROJECT_DIR}:{PROJECT_DIR}\n",
    "--publish {PORT}:{PORT}\n",
    "--interactive\n",
    "--rm\n",
    "mlflow_example\n",
    "mlflow models serve --model-uri {best_model_uri} --host 0.0.0.0 --port {PORT} --workers 2 --no-conda\n",
    "\"\"\".replace('\\n', ' ').strip()\n",
    "print(f\"Running command:\\n{docker_run_cmd}\")\n",
    "\n",
    "subprocess.run(docker_run_cmd, shell=True, check=True)"
   ]
  },
  {
   "cell_type": "markdown",
   "id": "d1e441d3",
   "metadata": {},
   "source": [
    "You have just to run this command: python3 mlflow_model_driver.py"
   ]
  },
  {
   "cell_type": "code",
   "execution_count": null,
   "id": "8cd37d8e",
   "metadata": {},
   "outputs": [
    {
     "name": "stdout",
     "output_type": "stream",
     "text": [
      "Elasticnet model (alpha=0.500000, l1_ratio=0.500000):\n",
      "  RMSE: 0.7931640229276851\n",
      "  MAE: 0.6271946374319587\n",
      "  R2: 0.10862644997792614\n"
     ]
    },
    {
     "name": "stderr",
     "output_type": "stream",
     "text": [
      "Successfully registered model 'ElasticnetWineModel'.\n",
      "2022/10/13 15:52:05 INFO mlflow.tracking._model_registry.client: Waiting up to 300 seconds for model version to finish creation.                     Model name: ElasticnetWineModel, version 1\n",
      "Created version '1' of model 'ElasticnetWineModel'.\n"
     ]
    }
   ],
   "source": [
    "# The data set used in this example is from http://archive.ics.uci.edu/ml/datasets/Wine+Quality\n",
    "# P. Cortez, A. Cerdeira, F. Almeida, T. Matos and J. Reis.\n",
    "# Modeling wine preferences by data mining from physicochemical properties. In Decision Support Systems, Elsevier, 47(4):547-553, 2009.\n",
    "\n",
    "import os\n",
    "import warnings\n",
    "import sys\n",
    "\n",
    "import pandas as pd\n",
    "import numpy as np\n",
    "from sklearn.metrics import mean_squared_error, mean_absolute_error, r2_score\n",
    "from sklearn.model_selection import train_test_split\n",
    "from sklearn.linear_model import ElasticNet\n",
    "from urllib.parse import urlparse\n",
    "import mlflow\n",
    "import mlflow.sklearn\n",
    "\n",
    "import logging\n",
    "\n",
    "logging.basicConfig(level=logging.WARN)\n",
    "logger = logging.getLogger(__name__)\n",
    "\n",
    "\n",
    "def eval_metrics(actual, pred):\n",
    "    rmse = np.sqrt(mean_squared_error(actual, pred))\n",
    "    mae = mean_absolute_error(actual, pred)\n",
    "    r2 = r2_score(actual, pred)\n",
    "    return rmse, mae, r2\n",
    "\n",
    "if __name__ == \"__main__\":\n",
    "    warnings.filterwarnings(\"ignore\")\n",
    "    np.random.seed(40)\n",
    "\n",
    "    # Read the wine-quality csv file from the URL\n",
    "    csv_url = (\n",
    "        \"http://archive.ics.uci.edu/ml/machine-learning-databases/wine-quality/winequality-red.csv\"\n",
    "    )\n",
    "    try:\n",
    "        data = pd.read_csv(csv_url, sep=\";\")\n",
    "    except Exception as e:\n",
    "        logger.exception(\n",
    "            \"Unable to download training & test CSV, check your internet connection. Error: %s\", e\n",
    "        )\n",
    "\n",
    "    # Split the data into training and test sets. (0.75, 0.25) split.\n",
    "    train, test = train_test_split(data)\n",
    "\n",
    "    # The predicted column is \"quality\" which is a scalar from [3, 9]\n",
    "    train_x = train.drop([\"quality\"], axis=1)\n",
    "    test_x = test.drop([\"quality\"], axis=1)\n",
    "    train_y = train[[\"quality\"]]\n",
    "    test_y = test[[\"quality\"]]\n",
    "\n",
    "    #alpha = float(sys.argv[1]) if len(sys.argv) > 1 else 0.5\n",
    "    #l1_ratio = float(sys.argv[2]) if len(sys.argv) > 2 else 0.5\n",
    "\n",
    "    alpha = 0.5\n",
    "    l1_ratio = 0.5\n",
    "\n",
    "    with mlflow.start_run():\n",
    "        lr = ElasticNet(alpha=alpha, l1_ratio=l1_ratio, random_state=42)\n",
    "        lr.fit(train_x, train_y)\n",
    "\n",
    "        predicted_qualities = lr.predict(test_x)\n",
    "\n",
    "        (rmse, mae, r2) = eval_metrics(test_y, predicted_qualities)\n",
    "\n",
    "        print(\"Elasticnet model (alpha=%f, l1_ratio=%f):\" % (alpha, l1_ratio))\n",
    "        print(\"  RMSE: %s\" % rmse)\n",
    "        print(\"  MAE: %s\" % mae)\n",
    "        print(\"  R2: %s\" % r2)\n",
    "\n",
    "        mlflow.log_param(\"alpha\", alpha)\n",
    "        mlflow.log_param(\"l1_ratio\", l1_ratio)\n",
    "        mlflow.log_metric(\"rmse\", rmse)\n",
    "        mlflow.log_metric(\"r2\", r2)\n",
    "        mlflow.log_metric(\"mae\", mae)\n",
    "\n",
    "        tracking_url_type_store = urlparse(mlflow.get_tracking_uri()).scheme\n",
    "\n",
    "        # Model registry does not work with file store\n",
    "        if tracking_url_type_store != \"file\":\n",
    "\n",
    "            # Register the model\n",
    "            # There are other ways to use the Model Registry, which depends on the use case,\n",
    "            # please refer to the doc for more information:\n",
    "            # https://mlflow.org/docs/latest/model-registry.html#api-workflow\n",
    "            mlflow.sklearn.log_model(lr, \"model\", registered_model_name=\"ElasticnetWineModel\")\n",
    "        else:\n",
    "            mlflow.sklearn.log_model(lr, \"model\")"
   ]
  }
 ],
 "metadata": {
  "kernelspec": {
   "display_name": "Python 3.8.15 ('gpw_tf')",
   "language": "python",
   "name": "python3"
  },
  "language_info": {
   "codemirror_mode": {
    "name": "ipython",
    "version": 3
   },
   "file_extension": ".py",
   "mimetype": "text/x-python",
   "name": "python",
   "nbconvert_exporter": "python",
   "pygments_lexer": "ipython3",
   "version": "3.8.15"
  },
  "orig_nbformat": 4,
  "vscode": {
   "interpreter": {
    "hash": "983647796b41a55e68a33a57e424b28a5a72da4c8a19017d375c381b1abbbc53"
   }
  }
 },
 "nbformat": 4,
 "nbformat_minor": 2
}
